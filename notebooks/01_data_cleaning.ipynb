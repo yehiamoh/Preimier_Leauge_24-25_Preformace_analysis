{
 "cells": [
  {
   "cell_type": "code",
   "execution_count": 2,
   "id": "69737cf8",
   "metadata": {},
   "outputs": [],
   "source": [
    "import pandas as pd\n",
    "import matplotlib.pyplot as plt\n",
    "import numpy as np"
   ]
  },
  {
   "cell_type": "code",
   "execution_count": 3,
   "id": "c2f867c7",
   "metadata": {},
   "outputs": [],
   "source": [
    "df=pd.read_csv('../data/raw/fbref_PL_2024-25.csv')"
   ]
  },
  {
   "cell_type": "code",
   "execution_count": 63,
   "id": "93cc7f48",
   "metadata": {},
   "outputs": [],
   "source": [
    "df=df.rename(columns={'Gls.1':'Gls/90s','Ast.1':'Ast/90s','G+A.1':'G+A/90s','G-PK.1':'G-PK/90s','xG.1':'xG/90s','xAG.1':'xAG/90s','npxG.1':'npxG/90s','npxG+xAG.1':'npxG+xAG/90s'})"
   ]
  },
  {
   "cell_type": "code",
   "execution_count": 40,
   "id": "96f1417b",
   "metadata": {},
   "outputs": [],
   "source": [
    "missing_players = {\n",
    "    \"Jake Evans\":  {\"Age\": 17.0, \"Born\": 2008.0, \"Nation\": \"eng ENG\"},\n",
    "    \"Jeremy Monga\": {\"Age\": 16.0, \"Born\": 2009.0, \"Nation\": \"eng ENG\"},\n",
    "    \"Mateus Mane\":  {\"Age\": 17.0, \"Born\": 2007.0, \"Nation\": \"pt POR\"},\n",
    "    \"Olabde Aluko\": {\"Age\": 18.0, \"Born\": 2006.0, \"Nation\": \"eng ENG\"}\n",
    "}\n",
    "\n",
    "for player,values in missing_players.items():\n",
    "    for col,val in values.items():\n",
    "        df.loc[df[\"Player\"]==player,col]=val"
   ]
  },
  {
   "cell_type": "code",
   "execution_count": 46,
   "id": "0193dd1f",
   "metadata": {},
   "outputs": [],
   "source": [
    "df['Age']=pd.to_numeric(df[\"Age\"],errors='coerce').astype('Int64')\n",
    "df['Born']=pd.to_numeric(df[\"Born\"],errors='coerce').astype('Int64')"
   ]
  },
  {
   "cell_type": "code",
   "execution_count": 64,
   "id": "fb75019c",
   "metadata": {},
   "outputs": [
    {
     "data": {
      "application/vnd.microsoft.datawrangler.viewer.v0+json": {
       "columns": [
        {
         "name": "index",
         "rawType": "object",
         "type": "string"
        },
        {
         "name": "0",
         "rawType": "object",
         "type": "unknown"
        }
       ],
       "ref": "57171cca-adc8-4143-9dea-b8a6c0c0d807",
       "rows": [
        [
         "Rk",
         "int64"
        ],
        [
         "Player",
         "object"
        ],
        [
         "Nation",
         "object"
        ],
        [
         "Pos",
         "object"
        ],
        [
         "Squad",
         "object"
        ],
        [
         "Age",
         "Int64"
        ],
        [
         "Born",
         "Int64"
        ],
        [
         "MP",
         "int64"
        ],
        [
         "Starts",
         "int64"
        ],
        [
         "Min",
         "int64"
        ],
        [
         "90s",
         "float64"
        ],
        [
         "Gls",
         "int64"
        ],
        [
         "Ast",
         "int64"
        ],
        [
         "G+A",
         "int64"
        ],
        [
         "G-PK",
         "int64"
        ],
        [
         "PK",
         "int64"
        ],
        [
         "PKatt",
         "int64"
        ],
        [
         "CrdY",
         "int64"
        ],
        [
         "CrdR",
         "int64"
        ],
        [
         "xG",
         "float64"
        ],
        [
         "npxG",
         "float64"
        ],
        [
         "xAG",
         "float64"
        ],
        [
         "npxG+xAG",
         "float64"
        ],
        [
         "PrgC",
         "int64"
        ],
        [
         "PrgP",
         "int64"
        ],
        [
         "PrgR",
         "int64"
        ],
        [
         "Gls/90s",
         "float64"
        ],
        [
         "Ast/90s",
         "float64"
        ],
        [
         "G+A/90s",
         "float64"
        ],
        [
         "G-PK/90s",
         "float64"
        ],
        [
         "G+A-PK",
         "float64"
        ],
        [
         "xG/90s",
         "float64"
        ],
        [
         "xAG/90s",
         "float64"
        ],
        [
         "xG+xAG",
         "float64"
        ],
        [
         "npxG/90s",
         "float64"
        ],
        [
         "npxG+xAG/90s",
         "float64"
        ],
        [
         "XG-Overperformance",
         "float64"
        ],
        [
         "xAG-Overperformance",
         "float64"
        ]
       ],
       "shape": {
        "columns": 1,
        "rows": 38
       }
      },
      "text/plain": [
       "Rk                       int64\n",
       "Player                  object\n",
       "Nation                  object\n",
       "Pos                     object\n",
       "Squad                   object\n",
       "Age                      Int64\n",
       "Born                     Int64\n",
       "MP                       int64\n",
       "Starts                   int64\n",
       "Min                      int64\n",
       "90s                    float64\n",
       "Gls                      int64\n",
       "Ast                      int64\n",
       "G+A                      int64\n",
       "G-PK                     int64\n",
       "PK                       int64\n",
       "PKatt                    int64\n",
       "CrdY                     int64\n",
       "CrdR                     int64\n",
       "xG                     float64\n",
       "npxG                   float64\n",
       "xAG                    float64\n",
       "npxG+xAG               float64\n",
       "PrgC                     int64\n",
       "PrgP                     int64\n",
       "PrgR                     int64\n",
       "Gls/90s                float64\n",
       "Ast/90s                float64\n",
       "G+A/90s                float64\n",
       "G-PK/90s               float64\n",
       "G+A-PK                 float64\n",
       "xG/90s                 float64\n",
       "xAG/90s                float64\n",
       "xG+xAG                 float64\n",
       "npxG/90s               float64\n",
       "npxG+xAG/90s           float64\n",
       "XG-Overperformance     float64\n",
       "xAG-Overperformance    float64\n",
       "dtype: object"
      ]
     },
     "execution_count": 64,
     "metadata": {},
     "output_type": "execute_result"
    }
   ],
   "source": [
    "df.dtypes"
   ]
  },
  {
   "cell_type": "code",
   "execution_count": 50,
   "id": "9363f885",
   "metadata": {},
   "outputs": [
    {
     "data": {
      "application/vnd.microsoft.datawrangler.viewer.v0+json": {
       "columns": [
        {
         "name": "index",
         "rawType": "int64",
         "type": "integer"
        },
        {
         "name": "Nation",
         "rawType": "object",
         "type": "unknown"
        }
       ],
       "ref": "f2088494-672f-4d85-9b31-8cbe0de71ee0",
       "rows": [
        [
         "0",
         "ENG"
        ],
        [
         "1",
         "ENG"
        ],
        [
         "2",
         "USA"
        ],
        [
         "3",
         "ENG"
        ],
        [
         "4",
         "CIV"
        ],
        [
         "5",
         "CIV"
        ],
        [
         "6",
         "ENG"
        ],
        [
         "7",
         "NGA"
        ],
        [
         "8",
         "ALG"
        ],
        [
         "9",
         "NOR"
        ],
        [
         "10",
         "SUI"
        ],
        [
         "11",
         "NED"
        ],
        [
         "12",
         "ARG"
        ],
        [
         "13",
         "ARG"
        ],
        [
         "14",
         "ENG"
        ],
        [
         "15",
         "BRA"
        ],
        [
         "16",
         "PAR"
        ],
        [
         "17",
         null
        ],
        [
         "18",
         "MEX"
        ],
        [
         "19",
         "ENG"
        ],
        [
         "20",
         "ENG"
        ],
        [
         "21",
         "ENG"
        ],
        [
         "22",
         "FRA"
        ],
        [
         "23",
         "DEN"
        ],
        [
         "24",
         "DEN"
        ],
        [
         "25",
         "ENG"
        ],
        [
         "26",
         "BRA"
        ],
        [
         "27",
         "JAM"
        ],
        [
         "28",
         "BRA"
        ],
        [
         "29",
         "MEX"
        ],
        [
         "30",
         "ENG"
        ],
        [
         "31",
         "FRA"
        ],
        [
         "32",
         "NGA"
        ],
        [
         "33",
         "ENG"
        ],
        [
         "34",
         "ENG"
        ],
        [
         "35",
         "ESP"
        ],
        [
         "36",
         "ESP"
        ],
        [
         "37",
         "ENG"
        ],
        [
         "38",
         "NGA"
        ],
        [
         "39",
         "SWE"
        ],
        [
         "40",
         "GHA"
        ],
        [
         "41",
         "GHA"
        ],
        [
         "42",
         "FRA"
        ],
        [
         "43",
         "JAM"
        ],
        [
         "44",
         "CMR"
        ],
        [
         "45",
         "ENG"
        ],
        [
         "46",
         "ENG"
        ],
        [
         "47",
         "NGA"
        ],
        [
         "48",
         "TUR"
        ],
        [
         "49",
         "POL"
        ]
       ],
       "shape": {
        "columns": 1,
        "rows": 574
       }
      },
      "text/plain": [
       "0      ENG\n",
       "1      ENG\n",
       "2      USA\n",
       "3      ENG\n",
       "4      CIV\n",
       "      ... \n",
       "569    ENG\n",
       "570    UKR\n",
       "571    UKR\n",
       "572    NED\n",
       "573    NOR\n",
       "Name: Nation, Length: 574, dtype: object"
      ]
     },
     "execution_count": 50,
     "metadata": {},
     "output_type": "execute_result"
    }
   ],
   "source": [
    "df['Nation']=df['Nation'].str.split(\" \",expand=True)[1]\n",
    "df['Nation']"
   ]
  },
  {
   "cell_type": "code",
   "execution_count": 67,
   "id": "a33767d0",
   "metadata": {},
   "outputs": [
    {
     "data": {
      "application/vnd.microsoft.datawrangler.viewer.v0+json": {
       "columns": [
        {
         "name": "index",
         "rawType": "int64",
         "type": "integer"
        },
        {
         "name": "XG-Overperformance",
         "rawType": "float64",
         "type": "float"
        }
       ],
       "ref": "3ea8284e-8cb1-419b-8556-24e681bc302e",
       "rows": [
        [
         "0",
         "0.0"
        ],
        [
         "1",
         "-0.2"
        ],
        [
         "2",
         "-1.6"
        ],
        [
         "3",
         "0.1"
        ],
        [
         "4",
         "-0.5"
        ],
        [
         "5",
         "0.2"
        ],
        [
         "6",
         "0.0"
        ],
        [
         "7",
         "1.4"
        ],
        [
         "8",
         "1.3"
        ],
        [
         "9",
         "-1.0"
        ],
        [
         "10",
         "-1.6"
        ],
        [
         "11",
         "-0.2"
        ],
        [
         "12",
         "-0.1"
        ],
        [
         "13",
         "0.3"
        ],
        [
         "14",
         "1.1"
        ],
        [
         "15",
         "0.0"
        ],
        [
         "16",
         "-0.5"
        ],
        [
         "17",
         "0.0"
        ],
        [
         "18",
         "-0.4"
        ],
        [
         "19",
         "0.0"
        ],
        [
         "20",
         "-0.1"
        ],
        [
         "21",
         "0.0"
        ],
        [
         "22",
         "0.0"
        ],
        [
         "23",
         "0.0"
        ],
        [
         "24",
         "-1.0"
        ],
        [
         "25",
         "-0.1"
        ],
        [
         "26",
         "-0.4"
        ],
        [
         "27",
         "-1.2"
        ],
        [
         "28",
         "-1.0"
        ],
        [
         "29",
         "0.0"
        ],
        [
         "30",
         "-3.7"
        ],
        [
         "31",
         "0.0"
        ],
        [
         "32",
         "0.3"
        ],
        [
         "33",
         "-1.3"
        ],
        [
         "34",
         "-0.4"
        ],
        [
         "35",
         "-0.1"
        ],
        [
         "36",
         "-1.4"
        ],
        [
         "37",
         "0.0"
        ],
        [
         "38",
         "-1.1"
        ],
        [
         "39",
         "-0.4"
        ],
        [
         "40",
         "-0.5"
        ],
        [
         "41",
         "1.8"
        ],
        [
         "42",
         "0.0"
        ],
        [
         "43",
         "-0.7"
        ],
        [
         "44",
         "-0.1"
        ],
        [
         "45",
         "1.2"
        ],
        [
         "46",
         "1.8"
        ],
        [
         "47",
         "0.0"
        ],
        [
         "48",
         "0.0"
        ],
        [
         "49",
         "1.3"
        ]
       ],
       "shape": {
        "columns": 1,
        "rows": 574
       }
      },
      "text/plain": [
       "0      0.0\n",
       "1     -0.2\n",
       "2     -1.6\n",
       "3      0.1\n",
       "4     -0.5\n",
       "      ... \n",
       "569    0.7\n",
       "570   -1.3\n",
       "571   -0.6\n",
       "572   -1.8\n",
       "573   -1.8\n",
       "Name: XG-Overperformance, Length: 574, dtype: float64"
      ]
     },
     "execution_count": 67,
     "metadata": {},
     "output_type": "execute_result"
    }
   ],
   "source": [
    "df['XG-Overperformance']=(df['Gls']-df['xG']).round(2)\n",
    "df['XG-Overperformance']"
   ]
  },
  {
   "cell_type": "code",
   "execution_count": 66,
   "id": "221d5842",
   "metadata": {},
   "outputs": [
    {
     "data": {
      "application/vnd.microsoft.datawrangler.viewer.v0+json": {
       "columns": [
        {
         "name": "index",
         "rawType": "int64",
         "type": "integer"
        },
        {
         "name": "xAG-Overperformance",
         "rawType": "float64",
         "type": "float"
        }
       ],
       "ref": "7ced85b2-d967-4d4c-8270-59fceb449ea7",
       "rows": [
        [
         "0",
         "0.0"
        ],
        [
         "1",
         "0.0"
        ],
        [
         "2",
         "2.0"
        ],
        [
         "3",
         "0.8"
        ],
        [
         "4",
         "-0.5"
        ],
        [
         "5",
         "-0.2"
        ],
        [
         "6",
         "0.0"
        ],
        [
         "7",
         "-0.4"
        ],
        [
         "8",
         "1.5"
        ],
        [
         "9",
         "-1.2"
        ],
        [
         "10",
         "-0.4"
        ],
        [
         "11",
         "0.0"
        ],
        [
         "12",
         "-0.1"
        ],
        [
         "13",
         "1.4"
        ],
        [
         "14",
         "-1.3"
        ],
        [
         "15",
         "-0.6"
        ],
        [
         "16",
         "-0.3"
        ],
        [
         "17",
         "0.0"
        ],
        [
         "18",
         "0.2"
        ],
        [
         "19",
         "0.0"
        ],
        [
         "20",
         "0.0"
        ],
        [
         "21",
         "-0.1"
        ],
        [
         "22",
         "0.0"
        ],
        [
         "23",
         "0.0"
        ],
        [
         "24",
         "-0.5"
        ],
        [
         "25",
         "2.7"
        ],
        [
         "26",
         "-0.8"
        ],
        [
         "27",
         "-0.6"
        ],
        [
         "28",
         "-0.1"
        ],
        [
         "29",
         "-0.1"
        ],
        [
         "30",
         "-0.5"
        ],
        [
         "31",
         "0.0"
        ],
        [
         "32",
         "-1.6"
        ],
        [
         "33",
         "0.8"
        ],
        [
         "34",
         "-0.1"
        ],
        [
         "35",
         "0.0"
        ],
        [
         "36",
         "0.0"
        ],
        [
         "37",
         "0.0"
        ],
        [
         "38",
         "-0.1"
        ],
        [
         "39",
         "-1.3"
        ],
        [
         "40",
         "0.0"
        ],
        [
         "41",
         "-1.1"
        ],
        [
         "42",
         "0.0"
        ],
        [
         "43",
         "0.5"
        ],
        [
         "44",
         "-0.3"
        ],
        [
         "45",
         "0.4"
        ],
        [
         "46",
         "0.0"
        ],
        [
         "47",
         "-0.1"
        ],
        [
         "48",
         "0.0"
        ],
        [
         "49",
         "-0.5"
        ]
       ],
       "shape": {
        "columns": 1,
        "rows": 574
       }
      },
      "text/plain": [
       "0      0.0\n",
       "1      0.0\n",
       "2      2.0\n",
       "3      0.8\n",
       "4     -0.5\n",
       "      ... \n",
       "569    0.7\n",
       "570    0.3\n",
       "571    0.8\n",
       "572   -0.5\n",
       "573    2.6\n",
       "Name: xAG-Overperformance, Length: 574, dtype: float64"
      ]
     },
     "execution_count": 66,
     "metadata": {},
     "output_type": "execute_result"
    }
   ],
   "source": [
    "df['xAG-Overperformance']=(df['Ast']-df['xAG']).round(2)\n",
    "df['xAG-Overperformance']"
   ]
  },
  {
   "cell_type": "code",
   "execution_count": 65,
   "id": "e3ac33be",
   "metadata": {},
   "outputs": [
    {
     "data": {
      "application/vnd.microsoft.datawrangler.viewer.v0+json": {
       "columns": [
        {
         "name": "index",
         "rawType": "int64",
         "type": "integer"
        },
        {
         "name": "Rk",
         "rawType": "int64",
         "type": "integer"
        },
        {
         "name": "Player",
         "rawType": "object",
         "type": "string"
        },
        {
         "name": "Nation",
         "rawType": "object",
         "type": "string"
        },
        {
         "name": "Pos",
         "rawType": "object",
         "type": "string"
        },
        {
         "name": "Squad",
         "rawType": "object",
         "type": "string"
        },
        {
         "name": "Age",
         "rawType": "Int64",
         "type": "integer"
        },
        {
         "name": "Born",
         "rawType": "Int64",
         "type": "integer"
        },
        {
         "name": "MP",
         "rawType": "int64",
         "type": "integer"
        },
        {
         "name": "Starts",
         "rawType": "int64",
         "type": "integer"
        },
        {
         "name": "Min",
         "rawType": "int64",
         "type": "integer"
        },
        {
         "name": "90s",
         "rawType": "float64",
         "type": "float"
        },
        {
         "name": "Gls",
         "rawType": "int64",
         "type": "integer"
        },
        {
         "name": "Ast",
         "rawType": "int64",
         "type": "integer"
        },
        {
         "name": "G+A",
         "rawType": "int64",
         "type": "integer"
        },
        {
         "name": "G-PK",
         "rawType": "int64",
         "type": "integer"
        },
        {
         "name": "PK",
         "rawType": "int64",
         "type": "integer"
        },
        {
         "name": "PKatt",
         "rawType": "int64",
         "type": "integer"
        },
        {
         "name": "CrdY",
         "rawType": "int64",
         "type": "integer"
        },
        {
         "name": "CrdR",
         "rawType": "int64",
         "type": "integer"
        },
        {
         "name": "xG",
         "rawType": "float64",
         "type": "float"
        },
        {
         "name": "npxG",
         "rawType": "float64",
         "type": "float"
        },
        {
         "name": "xAG",
         "rawType": "float64",
         "type": "float"
        },
        {
         "name": "npxG+xAG",
         "rawType": "float64",
         "type": "float"
        },
        {
         "name": "PrgC",
         "rawType": "int64",
         "type": "integer"
        },
        {
         "name": "PrgP",
         "rawType": "int64",
         "type": "integer"
        },
        {
         "name": "PrgR",
         "rawType": "int64",
         "type": "integer"
        },
        {
         "name": "Gls/90s",
         "rawType": "float64",
         "type": "float"
        },
        {
         "name": "Ast/90s",
         "rawType": "float64",
         "type": "float"
        },
        {
         "name": "G+A/90s",
         "rawType": "float64",
         "type": "float"
        },
        {
         "name": "G-PK/90s",
         "rawType": "float64",
         "type": "float"
        },
        {
         "name": "G+A-PK",
         "rawType": "float64",
         "type": "float"
        },
        {
         "name": "xG/90s",
         "rawType": "float64",
         "type": "float"
        },
        {
         "name": "xAG/90s",
         "rawType": "float64",
         "type": "float"
        },
        {
         "name": "xG+xAG",
         "rawType": "float64",
         "type": "float"
        },
        {
         "name": "npxG/90s",
         "rawType": "float64",
         "type": "float"
        },
        {
         "name": "npxG+xAG/90s",
         "rawType": "float64",
         "type": "float"
        },
        {
         "name": "XG-Overperformance",
         "rawType": "float64",
         "type": "float"
        },
        {
         "name": "xAG-Overperformance",
         "rawType": "float64",
         "type": "float"
        }
       ],
       "ref": "151f7a81-60c1-45de-b586-5a76d8ed00b9",
       "rows": [
        [
         "0",
         "1",
         "Max Aarons",
         "ENG",
         "DF",
         "Bournemouth",
         "24",
         "2000",
         "3",
         "1",
         "86",
         "1.0",
         "0",
         "0",
         "0",
         "0",
         "0",
         "0",
         "0",
         "0",
         "0.0",
         "0.0",
         "0.0",
         "0.0",
         "1",
         "8",
         "3",
         "0.0",
         "0.0",
         "0.0",
         "0.0",
         "0.0",
         "0.0",
         "0.0",
         "0.0",
         "0.0",
         "0.0",
         "0.0",
         "0.0"
        ],
        [
         "1",
         "2",
         "Joshua Acheampong",
         "ENG",
         "DF",
         "Chelsea",
         "18",
         "2006",
         "4",
         "2",
         "170",
         "1.9",
         "0",
         "0",
         "0",
         "0",
         "0",
         "0",
         "1",
         "0",
         "0.2",
         "0.2",
         "0.0",
         "0.2",
         "0",
         "8",
         "0",
         "0.0",
         "0.0",
         "0.0",
         "0.0",
         "0.0",
         "0.12",
         "0.0",
         "0.12",
         "0.12",
         "0.12",
         "-0.2",
         "0.0"
        ],
        [
         "2",
         "3",
         "Tyler Adams",
         "USA",
         "MF",
         "Bournemouth",
         "25",
         "1999",
         "28",
         "21",
         "1965",
         "21.8",
         "0",
         "3",
         "3",
         "0",
         "0",
         "0",
         "7",
         "0",
         "1.6",
         "1.6",
         "1.0",
         "2.6",
         "14",
         "76",
         "10",
         "0.0",
         "0.14",
         "0.14",
         "0.0",
         "0.14",
         "0.07",
         "0.05",
         "0.12",
         "0.07",
         "0.12",
         "-1.6",
         "2.0"
        ],
        [
         "3",
         "4",
         "Tosin Adarabioyo",
         "ENG",
         "DF",
         "Chelsea",
         "26",
         "1997",
         "22",
         "15",
         "1409",
         "15.7",
         "1",
         "1",
         "2",
         "1",
         "0",
         "0",
         "4",
         "0",
         "0.9",
         "0.9",
         "0.2",
         "1.2",
         "5",
         "42",
         "1",
         "0.06",
         "0.06",
         "0.13",
         "0.06",
         "0.13",
         "0.06",
         "0.01",
         "0.07",
         "0.06",
         "0.07",
         "0.1",
         "0.8"
        ],
        [
         "4",
         "5",
         "Simon Adingra",
         "CIV",
         "FW,MF",
         "Brighton",
         "22",
         "2002",
         "29",
         "12",
         "1097",
         "12.2",
         "2",
         "2",
         "4",
         "2",
         "0",
         "0",
         "0",
         "0",
         "2.5",
         "2.5",
         "2.5",
         "4.9",
         "50",
         "18",
         "136",
         "0.16",
         "0.16",
         "0.33",
         "0.16",
         "0.33",
         "0.2",
         "0.2",
         "0.4",
         "0.2",
         "0.4",
         "-0.5",
         "-0.5"
        ]
       ],
       "shape": {
        "columns": 38,
        "rows": 5
       }
      },
      "text/html": [
       "<div>\n",
       "<style scoped>\n",
       "    .dataframe tbody tr th:only-of-type {\n",
       "        vertical-align: middle;\n",
       "    }\n",
       "\n",
       "    .dataframe tbody tr th {\n",
       "        vertical-align: top;\n",
       "    }\n",
       "\n",
       "    .dataframe thead th {\n",
       "        text-align: right;\n",
       "    }\n",
       "</style>\n",
       "<table border=\"1\" class=\"dataframe\">\n",
       "  <thead>\n",
       "    <tr style=\"text-align: right;\">\n",
       "      <th></th>\n",
       "      <th>Rk</th>\n",
       "      <th>Player</th>\n",
       "      <th>Nation</th>\n",
       "      <th>Pos</th>\n",
       "      <th>Squad</th>\n",
       "      <th>Age</th>\n",
       "      <th>Born</th>\n",
       "      <th>MP</th>\n",
       "      <th>Starts</th>\n",
       "      <th>Min</th>\n",
       "      <th>...</th>\n",
       "      <th>G+A/90s</th>\n",
       "      <th>G-PK/90s</th>\n",
       "      <th>G+A-PK</th>\n",
       "      <th>xG/90s</th>\n",
       "      <th>xAG/90s</th>\n",
       "      <th>xG+xAG</th>\n",
       "      <th>npxG/90s</th>\n",
       "      <th>npxG+xAG/90s</th>\n",
       "      <th>XG-Overperformance</th>\n",
       "      <th>xAG-Overperformance</th>\n",
       "    </tr>\n",
       "  </thead>\n",
       "  <tbody>\n",
       "    <tr>\n",
       "      <th>0</th>\n",
       "      <td>1</td>\n",
       "      <td>Max Aarons</td>\n",
       "      <td>ENG</td>\n",
       "      <td>DF</td>\n",
       "      <td>Bournemouth</td>\n",
       "      <td>24</td>\n",
       "      <td>2000</td>\n",
       "      <td>3</td>\n",
       "      <td>1</td>\n",
       "      <td>86</td>\n",
       "      <td>...</td>\n",
       "      <td>0.00</td>\n",
       "      <td>0.00</td>\n",
       "      <td>0.00</td>\n",
       "      <td>0.00</td>\n",
       "      <td>0.00</td>\n",
       "      <td>0.00</td>\n",
       "      <td>0.00</td>\n",
       "      <td>0.00</td>\n",
       "      <td>0.0</td>\n",
       "      <td>0.0</td>\n",
       "    </tr>\n",
       "    <tr>\n",
       "      <th>1</th>\n",
       "      <td>2</td>\n",
       "      <td>Joshua Acheampong</td>\n",
       "      <td>ENG</td>\n",
       "      <td>DF</td>\n",
       "      <td>Chelsea</td>\n",
       "      <td>18</td>\n",
       "      <td>2006</td>\n",
       "      <td>4</td>\n",
       "      <td>2</td>\n",
       "      <td>170</td>\n",
       "      <td>...</td>\n",
       "      <td>0.00</td>\n",
       "      <td>0.00</td>\n",
       "      <td>0.00</td>\n",
       "      <td>0.12</td>\n",
       "      <td>0.00</td>\n",
       "      <td>0.12</td>\n",
       "      <td>0.12</td>\n",
       "      <td>0.12</td>\n",
       "      <td>-0.2</td>\n",
       "      <td>0.0</td>\n",
       "    </tr>\n",
       "    <tr>\n",
       "      <th>2</th>\n",
       "      <td>3</td>\n",
       "      <td>Tyler Adams</td>\n",
       "      <td>USA</td>\n",
       "      <td>MF</td>\n",
       "      <td>Bournemouth</td>\n",
       "      <td>25</td>\n",
       "      <td>1999</td>\n",
       "      <td>28</td>\n",
       "      <td>21</td>\n",
       "      <td>1965</td>\n",
       "      <td>...</td>\n",
       "      <td>0.14</td>\n",
       "      <td>0.00</td>\n",
       "      <td>0.14</td>\n",
       "      <td>0.07</td>\n",
       "      <td>0.05</td>\n",
       "      <td>0.12</td>\n",
       "      <td>0.07</td>\n",
       "      <td>0.12</td>\n",
       "      <td>-1.6</td>\n",
       "      <td>2.0</td>\n",
       "    </tr>\n",
       "    <tr>\n",
       "      <th>3</th>\n",
       "      <td>4</td>\n",
       "      <td>Tosin Adarabioyo</td>\n",
       "      <td>ENG</td>\n",
       "      <td>DF</td>\n",
       "      <td>Chelsea</td>\n",
       "      <td>26</td>\n",
       "      <td>1997</td>\n",
       "      <td>22</td>\n",
       "      <td>15</td>\n",
       "      <td>1409</td>\n",
       "      <td>...</td>\n",
       "      <td>0.13</td>\n",
       "      <td>0.06</td>\n",
       "      <td>0.13</td>\n",
       "      <td>0.06</td>\n",
       "      <td>0.01</td>\n",
       "      <td>0.07</td>\n",
       "      <td>0.06</td>\n",
       "      <td>0.07</td>\n",
       "      <td>0.1</td>\n",
       "      <td>0.8</td>\n",
       "    </tr>\n",
       "    <tr>\n",
       "      <th>4</th>\n",
       "      <td>5</td>\n",
       "      <td>Simon Adingra</td>\n",
       "      <td>CIV</td>\n",
       "      <td>FW,MF</td>\n",
       "      <td>Brighton</td>\n",
       "      <td>22</td>\n",
       "      <td>2002</td>\n",
       "      <td>29</td>\n",
       "      <td>12</td>\n",
       "      <td>1097</td>\n",
       "      <td>...</td>\n",
       "      <td>0.33</td>\n",
       "      <td>0.16</td>\n",
       "      <td>0.33</td>\n",
       "      <td>0.20</td>\n",
       "      <td>0.20</td>\n",
       "      <td>0.40</td>\n",
       "      <td>0.20</td>\n",
       "      <td>0.40</td>\n",
       "      <td>-0.5</td>\n",
       "      <td>-0.5</td>\n",
       "    </tr>\n",
       "  </tbody>\n",
       "</table>\n",
       "<p>5 rows × 38 columns</p>\n",
       "</div>"
      ],
      "text/plain": [
       "   Rk             Player Nation    Pos        Squad  Age  Born  MP  Starts  \\\n",
       "0   1         Max Aarons    ENG     DF  Bournemouth   24  2000   3       1   \n",
       "1   2  Joshua Acheampong    ENG     DF      Chelsea   18  2006   4       2   \n",
       "2   3        Tyler Adams    USA     MF  Bournemouth   25  1999  28      21   \n",
       "3   4   Tosin Adarabioyo    ENG     DF      Chelsea   26  1997  22      15   \n",
       "4   5      Simon Adingra    CIV  FW,MF     Brighton   22  2002  29      12   \n",
       "\n",
       "    Min  ...  G+A/90s  G-PK/90s  G+A-PK  xG/90s  xAG/90s  xG+xAG  npxG/90s  \\\n",
       "0    86  ...     0.00      0.00    0.00    0.00     0.00    0.00      0.00   \n",
       "1   170  ...     0.00      0.00    0.00    0.12     0.00    0.12      0.12   \n",
       "2  1965  ...     0.14      0.00    0.14    0.07     0.05    0.12      0.07   \n",
       "3  1409  ...     0.13      0.06    0.13    0.06     0.01    0.07      0.06   \n",
       "4  1097  ...     0.33      0.16    0.33    0.20     0.20    0.40      0.20   \n",
       "\n",
       "   npxG+xAG/90s  XG-Overperformance  xAG-Overperformance  \n",
       "0          0.00                 0.0                  0.0  \n",
       "1          0.12                -0.2                  0.0  \n",
       "2          0.12                -1.6                  2.0  \n",
       "3          0.07                 0.1                  0.8  \n",
       "4          0.40                -0.5                 -0.5  \n",
       "\n",
       "[5 rows x 38 columns]"
      ]
     },
     "execution_count": 65,
     "metadata": {},
     "output_type": "execute_result"
    }
   ],
   "source": [
    "df.head()"
   ]
  },
  {
   "cell_type": "code",
   "execution_count": 68,
   "id": "36b83911",
   "metadata": {},
   "outputs": [],
   "source": [
    "df.to_csv(\"../data/processed/players_cleaned.csv\")"
   ]
  }
 ],
 "metadata": {
  "kernelspec": {
   "display_name": "Python 3",
   "language": "python",
   "name": "python3"
  },
  "language_info": {
   "codemirror_mode": {
    "name": "ipython",
    "version": 3
   },
   "file_extension": ".py",
   "mimetype": "text/x-python",
   "name": "python",
   "nbconvert_exporter": "python",
   "pygments_lexer": "ipython3",
   "version": "3.13.0"
  }
 },
 "nbformat": 4,
 "nbformat_minor": 5
}
