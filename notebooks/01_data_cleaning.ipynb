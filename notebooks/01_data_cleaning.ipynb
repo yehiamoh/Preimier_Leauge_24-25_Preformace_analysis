{
 "cells": [
  {
   "cell_type": "markdown",
   "id": "b9f0f79d",
   "metadata": {},
   "source": [
    "# Premier League Player Data Cleaning\n"
   ]
  },
  {
   "cell_type": "code",
   "execution_count": 23,
   "id": "69737cf8",
   "metadata": {},
   "outputs": [],
   "source": [
    "import pandas as pd\n",
    "import matplotlib.pyplot as plt\n",
    "import numpy as np"
   ]
  },
  {
   "cell_type": "markdown",
   "id": "b6470019",
   "metadata": {},
   "source": [
    "## 1. Data Loading and Initial Inspection\n",
    "Initial loading and examination of Premier League player statistics for the 2024-25 season."
   ]
  },
  {
   "cell_type": "code",
   "execution_count": 24,
   "id": "c2f867c7",
   "metadata": {},
   "outputs": [],
   "source": [
    "df=pd.read_csv('../data/raw/fbref_PL_2024-25.csv')"
   ]
  },
  {
   "cell_type": "code",
   "execution_count": 25,
   "id": "c63c065a",
   "metadata": {},
   "outputs": [
    {
     "data": {
      "application/vnd.microsoft.datawrangler.viewer.v0+json": {
       "columns": [
        {
         "name": "index",
         "rawType": "int64",
         "type": "integer"
        },
        {
         "name": "Rk",
         "rawType": "int64",
         "type": "integer"
        },
        {
         "name": "Player",
         "rawType": "object",
         "type": "string"
        },
        {
         "name": "Nation",
         "rawType": "object",
         "type": "string"
        },
        {
         "name": "Pos",
         "rawType": "object",
         "type": "string"
        },
        {
         "name": "Squad",
         "rawType": "object",
         "type": "string"
        },
        {
         "name": "Age",
         "rawType": "float64",
         "type": "float"
        },
        {
         "name": "Born",
         "rawType": "float64",
         "type": "float"
        },
        {
         "name": "MP",
         "rawType": "int64",
         "type": "integer"
        },
        {
         "name": "Starts",
         "rawType": "int64",
         "type": "integer"
        },
        {
         "name": "Min",
         "rawType": "int64",
         "type": "integer"
        },
        {
         "name": "90s",
         "rawType": "float64",
         "type": "float"
        },
        {
         "name": "Gls",
         "rawType": "int64",
         "type": "integer"
        },
        {
         "name": "Ast",
         "rawType": "int64",
         "type": "integer"
        },
        {
         "name": "G+A",
         "rawType": "int64",
         "type": "integer"
        },
        {
         "name": "G-PK",
         "rawType": "int64",
         "type": "integer"
        },
        {
         "name": "PK",
         "rawType": "int64",
         "type": "integer"
        },
        {
         "name": "PKatt",
         "rawType": "int64",
         "type": "integer"
        },
        {
         "name": "CrdY",
         "rawType": "int64",
         "type": "integer"
        },
        {
         "name": "CrdR",
         "rawType": "int64",
         "type": "integer"
        },
        {
         "name": "xG",
         "rawType": "float64",
         "type": "float"
        },
        {
         "name": "npxG",
         "rawType": "float64",
         "type": "float"
        },
        {
         "name": "xAG",
         "rawType": "float64",
         "type": "float"
        },
        {
         "name": "npxG+xAG",
         "rawType": "float64",
         "type": "float"
        },
        {
         "name": "PrgC",
         "rawType": "int64",
         "type": "integer"
        },
        {
         "name": "PrgP",
         "rawType": "int64",
         "type": "integer"
        },
        {
         "name": "PrgR",
         "rawType": "int64",
         "type": "integer"
        },
        {
         "name": "Gls.1",
         "rawType": "float64",
         "type": "float"
        },
        {
         "name": "Ast.1",
         "rawType": "float64",
         "type": "float"
        },
        {
         "name": "G+A.1",
         "rawType": "float64",
         "type": "float"
        },
        {
         "name": "G-PK.1",
         "rawType": "float64",
         "type": "float"
        },
        {
         "name": "G+A-PK",
         "rawType": "float64",
         "type": "float"
        },
        {
         "name": "xG.1",
         "rawType": "float64",
         "type": "float"
        },
        {
         "name": "xAG.1",
         "rawType": "float64",
         "type": "float"
        },
        {
         "name": "xG+xAG",
         "rawType": "float64",
         "type": "float"
        },
        {
         "name": "npxG.1",
         "rawType": "float64",
         "type": "float"
        },
        {
         "name": "npxG+xAG.1",
         "rawType": "float64",
         "type": "float"
        }
       ],
       "ref": "e8693c23-90ec-489b-b53d-5de48c4778a0",
       "rows": [
        [
         "0",
         "1",
         "Max Aarons",
         "eng ENG",
         "DF",
         "Bournemouth",
         "24.0",
         "2000.0",
         "3",
         "1",
         "86",
         "1.0",
         "0",
         "0",
         "0",
         "0",
         "0",
         "0",
         "0",
         "0",
         "0.0",
         "0.0",
         "0.0",
         "0.0",
         "1",
         "8",
         "3",
         "0.0",
         "0.0",
         "0.0",
         "0.0",
         "0.0",
         "0.0",
         "0.0",
         "0.0",
         "0.0",
         "0.0"
        ],
        [
         "1",
         "2",
         "Joshua Acheampong",
         "eng ENG",
         "DF",
         "Chelsea",
         "18.0",
         "2006.0",
         "4",
         "2",
         "170",
         "1.9",
         "0",
         "0",
         "0",
         "0",
         "0",
         "0",
         "1",
         "0",
         "0.2",
         "0.2",
         "0.0",
         "0.2",
         "0",
         "8",
         "0",
         "0.0",
         "0.0",
         "0.0",
         "0.0",
         "0.0",
         "0.12",
         "0.0",
         "0.12",
         "0.12",
         "0.12"
        ],
        [
         "2",
         "3",
         "Tyler Adams",
         "us USA",
         "MF",
         "Bournemouth",
         "25.0",
         "1999.0",
         "28",
         "21",
         "1965",
         "21.8",
         "0",
         "3",
         "3",
         "0",
         "0",
         "0",
         "7",
         "0",
         "1.6",
         "1.6",
         "1.0",
         "2.6",
         "14",
         "76",
         "10",
         "0.0",
         "0.14",
         "0.14",
         "0.0",
         "0.14",
         "0.07",
         "0.05",
         "0.12",
         "0.07",
         "0.12"
        ],
        [
         "3",
         "4",
         "Tosin Adarabioyo",
         "eng ENG",
         "DF",
         "Chelsea",
         "26.0",
         "1997.0",
         "22",
         "15",
         "1409",
         "15.7",
         "1",
         "1",
         "2",
         "1",
         "0",
         "0",
         "4",
         "0",
         "0.9",
         "0.9",
         "0.2",
         "1.2",
         "5",
         "42",
         "1",
         "0.06",
         "0.06",
         "0.13",
         "0.06",
         "0.13",
         "0.06",
         "0.01",
         "0.07",
         "0.06",
         "0.07"
        ],
        [
         "4",
         "5",
         "Simon Adingra",
         "ci CIV",
         "FW,MF",
         "Brighton",
         "22.0",
         "2002.0",
         "29",
         "12",
         "1097",
         "12.2",
         "2",
         "2",
         "4",
         "2",
         "0",
         "0",
         "0",
         "0",
         "2.5",
         "2.5",
         "2.5",
         "4.9",
         "50",
         "18",
         "136",
         "0.16",
         "0.16",
         "0.33",
         "0.16",
         "0.33",
         "0.2",
         "0.2",
         "0.4",
         "0.2",
         "0.4"
        ]
       ],
       "shape": {
        "columns": 36,
        "rows": 5
       }
      },
      "text/html": [
       "<div>\n",
       "<style scoped>\n",
       "    .dataframe tbody tr th:only-of-type {\n",
       "        vertical-align: middle;\n",
       "    }\n",
       "\n",
       "    .dataframe tbody tr th {\n",
       "        vertical-align: top;\n",
       "    }\n",
       "\n",
       "    .dataframe thead th {\n",
       "        text-align: right;\n",
       "    }\n",
       "</style>\n",
       "<table border=\"1\" class=\"dataframe\">\n",
       "  <thead>\n",
       "    <tr style=\"text-align: right;\">\n",
       "      <th></th>\n",
       "      <th>Rk</th>\n",
       "      <th>Player</th>\n",
       "      <th>Nation</th>\n",
       "      <th>Pos</th>\n",
       "      <th>Squad</th>\n",
       "      <th>Age</th>\n",
       "      <th>Born</th>\n",
       "      <th>MP</th>\n",
       "      <th>Starts</th>\n",
       "      <th>Min</th>\n",
       "      <th>...</th>\n",
       "      <th>Gls.1</th>\n",
       "      <th>Ast.1</th>\n",
       "      <th>G+A.1</th>\n",
       "      <th>G-PK.1</th>\n",
       "      <th>G+A-PK</th>\n",
       "      <th>xG.1</th>\n",
       "      <th>xAG.1</th>\n",
       "      <th>xG+xAG</th>\n",
       "      <th>npxG.1</th>\n",
       "      <th>npxG+xAG.1</th>\n",
       "    </tr>\n",
       "  </thead>\n",
       "  <tbody>\n",
       "    <tr>\n",
       "      <th>0</th>\n",
       "      <td>1</td>\n",
       "      <td>Max Aarons</td>\n",
       "      <td>eng ENG</td>\n",
       "      <td>DF</td>\n",
       "      <td>Bournemouth</td>\n",
       "      <td>24.0</td>\n",
       "      <td>2000.0</td>\n",
       "      <td>3</td>\n",
       "      <td>1</td>\n",
       "      <td>86</td>\n",
       "      <td>...</td>\n",
       "      <td>0.00</td>\n",
       "      <td>0.00</td>\n",
       "      <td>0.00</td>\n",
       "      <td>0.00</td>\n",
       "      <td>0.00</td>\n",
       "      <td>0.00</td>\n",
       "      <td>0.00</td>\n",
       "      <td>0.00</td>\n",
       "      <td>0.00</td>\n",
       "      <td>0.00</td>\n",
       "    </tr>\n",
       "    <tr>\n",
       "      <th>1</th>\n",
       "      <td>2</td>\n",
       "      <td>Joshua Acheampong</td>\n",
       "      <td>eng ENG</td>\n",
       "      <td>DF</td>\n",
       "      <td>Chelsea</td>\n",
       "      <td>18.0</td>\n",
       "      <td>2006.0</td>\n",
       "      <td>4</td>\n",
       "      <td>2</td>\n",
       "      <td>170</td>\n",
       "      <td>...</td>\n",
       "      <td>0.00</td>\n",
       "      <td>0.00</td>\n",
       "      <td>0.00</td>\n",
       "      <td>0.00</td>\n",
       "      <td>0.00</td>\n",
       "      <td>0.12</td>\n",
       "      <td>0.00</td>\n",
       "      <td>0.12</td>\n",
       "      <td>0.12</td>\n",
       "      <td>0.12</td>\n",
       "    </tr>\n",
       "    <tr>\n",
       "      <th>2</th>\n",
       "      <td>3</td>\n",
       "      <td>Tyler Adams</td>\n",
       "      <td>us USA</td>\n",
       "      <td>MF</td>\n",
       "      <td>Bournemouth</td>\n",
       "      <td>25.0</td>\n",
       "      <td>1999.0</td>\n",
       "      <td>28</td>\n",
       "      <td>21</td>\n",
       "      <td>1965</td>\n",
       "      <td>...</td>\n",
       "      <td>0.00</td>\n",
       "      <td>0.14</td>\n",
       "      <td>0.14</td>\n",
       "      <td>0.00</td>\n",
       "      <td>0.14</td>\n",
       "      <td>0.07</td>\n",
       "      <td>0.05</td>\n",
       "      <td>0.12</td>\n",
       "      <td>0.07</td>\n",
       "      <td>0.12</td>\n",
       "    </tr>\n",
       "    <tr>\n",
       "      <th>3</th>\n",
       "      <td>4</td>\n",
       "      <td>Tosin Adarabioyo</td>\n",
       "      <td>eng ENG</td>\n",
       "      <td>DF</td>\n",
       "      <td>Chelsea</td>\n",
       "      <td>26.0</td>\n",
       "      <td>1997.0</td>\n",
       "      <td>22</td>\n",
       "      <td>15</td>\n",
       "      <td>1409</td>\n",
       "      <td>...</td>\n",
       "      <td>0.06</td>\n",
       "      <td>0.06</td>\n",
       "      <td>0.13</td>\n",
       "      <td>0.06</td>\n",
       "      <td>0.13</td>\n",
       "      <td>0.06</td>\n",
       "      <td>0.01</td>\n",
       "      <td>0.07</td>\n",
       "      <td>0.06</td>\n",
       "      <td>0.07</td>\n",
       "    </tr>\n",
       "    <tr>\n",
       "      <th>4</th>\n",
       "      <td>5</td>\n",
       "      <td>Simon Adingra</td>\n",
       "      <td>ci CIV</td>\n",
       "      <td>FW,MF</td>\n",
       "      <td>Brighton</td>\n",
       "      <td>22.0</td>\n",
       "      <td>2002.0</td>\n",
       "      <td>29</td>\n",
       "      <td>12</td>\n",
       "      <td>1097</td>\n",
       "      <td>...</td>\n",
       "      <td>0.16</td>\n",
       "      <td>0.16</td>\n",
       "      <td>0.33</td>\n",
       "      <td>0.16</td>\n",
       "      <td>0.33</td>\n",
       "      <td>0.20</td>\n",
       "      <td>0.20</td>\n",
       "      <td>0.40</td>\n",
       "      <td>0.20</td>\n",
       "      <td>0.40</td>\n",
       "    </tr>\n",
       "  </tbody>\n",
       "</table>\n",
       "<p>5 rows × 36 columns</p>\n",
       "</div>"
      ],
      "text/plain": [
       "   Rk             Player   Nation    Pos        Squad   Age    Born  MP  \\\n",
       "0   1         Max Aarons  eng ENG     DF  Bournemouth  24.0  2000.0   3   \n",
       "1   2  Joshua Acheampong  eng ENG     DF      Chelsea  18.0  2006.0   4   \n",
       "2   3        Tyler Adams   us USA     MF  Bournemouth  25.0  1999.0  28   \n",
       "3   4   Tosin Adarabioyo  eng ENG     DF      Chelsea  26.0  1997.0  22   \n",
       "4   5      Simon Adingra   ci CIV  FW,MF     Brighton  22.0  2002.0  29   \n",
       "\n",
       "   Starts   Min  ...  Gls.1  Ast.1  G+A.1  G-PK.1  G+A-PK  xG.1  xAG.1  \\\n",
       "0       1    86  ...   0.00   0.00   0.00    0.00    0.00  0.00   0.00   \n",
       "1       2   170  ...   0.00   0.00   0.00    0.00    0.00  0.12   0.00   \n",
       "2      21  1965  ...   0.00   0.14   0.14    0.00    0.14  0.07   0.05   \n",
       "3      15  1409  ...   0.06   0.06   0.13    0.06    0.13  0.06   0.01   \n",
       "4      12  1097  ...   0.16   0.16   0.33    0.16    0.33  0.20   0.20   \n",
       "\n",
       "   xG+xAG  npxG.1  npxG+xAG.1  \n",
       "0    0.00    0.00        0.00  \n",
       "1    0.12    0.12        0.12  \n",
       "2    0.12    0.07        0.12  \n",
       "3    0.07    0.06        0.07  \n",
       "4    0.40    0.20        0.40  \n",
       "\n",
       "[5 rows x 36 columns]"
      ]
     },
     "execution_count": 25,
     "metadata": {},
     "output_type": "execute_result"
    }
   ],
   "source": [
    "df.head()"
   ]
  },
  {
   "cell_type": "code",
   "execution_count": 26,
   "id": "1722ce62",
   "metadata": {},
   "outputs": [
    {
     "name": "stdout",
     "output_type": "stream",
     "text": [
      "<class 'pandas.core.frame.DataFrame'>\n",
      "RangeIndex: 574 entries, 0 to 573\n",
      "Data columns (total 36 columns):\n",
      " #   Column      Non-Null Count  Dtype  \n",
      "---  ------      --------------  -----  \n",
      " 0   Rk          574 non-null    int64  \n",
      " 1   Player      574 non-null    object \n",
      " 2   Nation      570 non-null    object \n",
      " 3   Pos         574 non-null    object \n",
      " 4   Squad       574 non-null    object \n",
      " 5   Age         570 non-null    float64\n",
      " 6   Born        570 non-null    float64\n",
      " 7   MP          574 non-null    int64  \n",
      " 8   Starts      574 non-null    int64  \n",
      " 9   Min         574 non-null    int64  \n",
      " 10  90s         574 non-null    float64\n",
      " 11  Gls         574 non-null    int64  \n",
      " 12  Ast         574 non-null    int64  \n",
      " 13  G+A         574 non-null    int64  \n",
      " 14  G-PK        574 non-null    int64  \n",
      " 15  PK          574 non-null    int64  \n",
      " 16  PKatt       574 non-null    int64  \n",
      " 17  CrdY        574 non-null    int64  \n",
      " 18  CrdR        574 non-null    int64  \n",
      " 19  xG          574 non-null    float64\n",
      " 20  npxG        574 non-null    float64\n",
      " 21  xAG         574 non-null    float64\n",
      " 22  npxG+xAG    574 non-null    float64\n",
      " 23  PrgC        574 non-null    int64  \n",
      " 24  PrgP        574 non-null    int64  \n",
      " 25  PrgR        574 non-null    int64  \n",
      " 26  Gls.1       574 non-null    float64\n",
      " 27  Ast.1       574 non-null    float64\n",
      " 28  G+A.1       574 non-null    float64\n",
      " 29  G-PK.1      574 non-null    float64\n",
      " 30  G+A-PK      574 non-null    float64\n",
      " 31  xG.1        574 non-null    float64\n",
      " 32  xAG.1       574 non-null    float64\n",
      " 33  xG+xAG      574 non-null    float64\n",
      " 34  npxG.1      574 non-null    float64\n",
      " 35  npxG+xAG.1  574 non-null    float64\n",
      "dtypes: float64(17), int64(15), object(4)\n",
      "memory usage: 161.6+ KB\n"
     ]
    }
   ],
   "source": [
    "df.info()"
   ]
  },
  {
   "cell_type": "code",
   "execution_count": 27,
   "id": "57ba8b13",
   "metadata": {},
   "outputs": [
    {
     "data": {
      "application/vnd.microsoft.datawrangler.viewer.v0+json": {
       "columns": [
        {
         "name": "index",
         "rawType": "object",
         "type": "string"
        },
        {
         "name": "Rk",
         "rawType": "float64",
         "type": "float"
        },
        {
         "name": "Age",
         "rawType": "float64",
         "type": "float"
        },
        {
         "name": "Born",
         "rawType": "float64",
         "type": "float"
        },
        {
         "name": "MP",
         "rawType": "float64",
         "type": "float"
        },
        {
         "name": "Starts",
         "rawType": "float64",
         "type": "float"
        },
        {
         "name": "Min",
         "rawType": "float64",
         "type": "float"
        },
        {
         "name": "90s",
         "rawType": "float64",
         "type": "float"
        },
        {
         "name": "Gls",
         "rawType": "float64",
         "type": "float"
        },
        {
         "name": "Ast",
         "rawType": "float64",
         "type": "float"
        },
        {
         "name": "G+A",
         "rawType": "float64",
         "type": "float"
        },
        {
         "name": "G-PK",
         "rawType": "float64",
         "type": "float"
        },
        {
         "name": "PK",
         "rawType": "float64",
         "type": "float"
        },
        {
         "name": "PKatt",
         "rawType": "float64",
         "type": "float"
        },
        {
         "name": "CrdY",
         "rawType": "float64",
         "type": "float"
        },
        {
         "name": "CrdR",
         "rawType": "float64",
         "type": "float"
        },
        {
         "name": "xG",
         "rawType": "float64",
         "type": "float"
        },
        {
         "name": "npxG",
         "rawType": "float64",
         "type": "float"
        },
        {
         "name": "xAG",
         "rawType": "float64",
         "type": "float"
        },
        {
         "name": "npxG+xAG",
         "rawType": "float64",
         "type": "float"
        },
        {
         "name": "PrgC",
         "rawType": "float64",
         "type": "float"
        },
        {
         "name": "PrgP",
         "rawType": "float64",
         "type": "float"
        },
        {
         "name": "PrgR",
         "rawType": "float64",
         "type": "float"
        },
        {
         "name": "Gls.1",
         "rawType": "float64",
         "type": "float"
        },
        {
         "name": "Ast.1",
         "rawType": "float64",
         "type": "float"
        },
        {
         "name": "G+A.1",
         "rawType": "float64",
         "type": "float"
        },
        {
         "name": "G-PK.1",
         "rawType": "float64",
         "type": "float"
        },
        {
         "name": "G+A-PK",
         "rawType": "float64",
         "type": "float"
        },
        {
         "name": "xG.1",
         "rawType": "float64",
         "type": "float"
        },
        {
         "name": "xAG.1",
         "rawType": "float64",
         "type": "float"
        },
        {
         "name": "xG+xAG",
         "rawType": "float64",
         "type": "float"
        },
        {
         "name": "npxG.1",
         "rawType": "float64",
         "type": "float"
        },
        {
         "name": "npxG+xAG.1",
         "rawType": "float64",
         "type": "float"
        }
       ],
       "ref": "dbed1a44-61e3-4931-af31-c8e8ae3e7d5b",
       "rows": [
        [
         "count",
         "574.0",
         "570.0",
         "570.0",
         "574.0",
         "574.0",
         "574.0",
         "574.0",
         "574.0",
         "574.0",
         "574.0",
         "574.0",
         "574.0",
         "574.0",
         "574.0",
         "574.0",
         "574.0",
         "574.0",
         "574.0",
         "574.0",
         "574.0",
         "574.0",
         "574.0",
         "574.0",
         "574.0",
         "574.0",
         "574.0",
         "574.0",
         "574.0",
         "574.0",
         "574.0",
         "574.0",
         "574.0"
        ],
        [
         "mean",
         "287.5",
         "25.098245614035086",
         "1998.5263157894738",
         "20.15156794425087",
         "14.564459930313589",
         "1308.240418118467",
         "14.535365853658535",
         "1.8850174216027875",
         "1.4006968641114983",
         "3.2857142857142856",
         "1.764808362369338",
         "0.12020905923344948",
         "0.1445993031358885",
         "2.78397212543554",
         "0.09059233449477352",
         "1.919163763066202",
         "1.8040069686411149",
         "1.4172473867595818",
         "3.223693379790941",
         "24.829268292682926",
         "48.930313588850176",
         "48.42857142857143",
         "0.10836236933797909",
         "0.08076655052264808",
         "0.18923344947735193",
         "0.10365853658536585",
         "0.1845644599303136",
         "0.14290940766550522",
         "0.09405923344947736",
         "0.236602787456446",
         "0.13817073170731708",
         "0.2317770034843206"
        ],
        [
         "std",
         "165.84380201462662",
         "4.4505678328131415",
         "4.476477333812481",
         "12.230609441494902",
         "12.304535620178216",
         "1053.6459618645167",
         "11.707284472767435",
         "3.5379792178014187",
         "2.2534982389242786",
         "5.218296255151871",
         "3.1443595110275857",
         "0.674524685487047",
         "0.7295773930811937",
         "2.8071252346468776",
         "0.30495958192489075",
         "3.1765472377392103",
         "2.831769648780757",
         "1.9628127637841026",
         "4.367038559101021",
         "32.504403468436216",
         "53.902491184753536",
         "67.6544522297469",
         "0.1795313883953396",
         "0.15615729483150173",
         "0.26471382261683163",
         "0.17232177515919236",
         "0.2572516885566354",
         "0.2876923934425008",
         "0.12014565030856326",
         "0.3294817852831978",
         "0.28400150943571995",
         "0.32460309354018313"
        ],
        [
         "min",
         "1.0",
         "15.0",
         "1985.0",
         "1.0",
         "0.0",
         "1.0",
         "0.0",
         "0.0",
         "0.0",
         "0.0",
         "0.0",
         "0.0",
         "0.0",
         "0.0",
         "0.0",
         "0.0",
         "0.0",
         "0.0",
         "0.0",
         "0.0",
         "0.0",
         "0.0",
         "0.0",
         "0.0",
         "0.0",
         "0.0",
         "0.0",
         "0.0",
         "0.0",
         "0.0",
         "0.0",
         "0.0"
        ],
        [
         "25%",
         "144.25",
         "22.0",
         "1996.0",
         "9.0",
         "3.0",
         "331.25",
         "3.7",
         "0.0",
         "0.0",
         "0.0",
         "0.0",
         "0.0",
         "0.0",
         "0.0",
         "0.0",
         "0.1",
         "0.1",
         "0.1",
         "0.2",
         "2.0",
         "6.0",
         "2.0",
         "0.0",
         "0.0",
         "0.0",
         "0.0",
         "0.0",
         "0.0125",
         "0.01",
         "0.05",
         "0.01",
         "0.05"
        ],
        [
         "50%",
         "287.5",
         "25.0",
         "1999.0",
         "21.0",
         "12.0",
         "1103.5",
         "12.25",
         "0.0",
         "0.0",
         "1.0",
         "0.0",
         "0.0",
         "0.0",
         "2.0",
         "0.0",
         "0.7",
         "0.7",
         "0.6",
         "1.6",
         "12.0",
         "32.5",
         "18.0",
         "0.0",
         "0.0",
         "0.09",
         "0.0",
         "0.08499999999999999",
         "0.07",
         "0.06",
         "0.14",
         "0.07",
         "0.14"
        ],
        [
         "75%",
         "430.75",
         "28.0",
         "2002.0",
         "32.0",
         "25.0",
         "2204.0",
         "24.5",
         "2.0",
         "2.0",
         "4.0",
         "2.0",
         "0.0",
         "0.0",
         "4.75",
         "0.0",
         "2.2",
         "2.1750000000000003",
         "1.9",
         "4.2",
         "35.0",
         "74.75",
         "77.75",
         "0.15",
         "0.1275",
         "0.29",
         "0.14",
         "0.29",
         "0.19",
         "0.14",
         "0.3475",
         "0.17",
         "0.34"
        ],
        [
         "max",
         "574.0",
         "39.0",
         "2008.0",
         "38.0",
         "38.0",
         "3420.0",
         "38.0",
         "29.0",
         "18.0",
         "47.0",
         "20.0",
         "9.0",
         "9.0",
         "12.0",
         "2.0",
         "25.2",
         "18.8",
         "14.2",
         "32.4",
         "213.0",
         "325.0",
         "488.0",
         "1.64",
         "2.65",
         "2.65",
         "1.64",
         "2.65",
         "5.06",
         "1.45",
         "5.06",
         "5.06",
         "5.06"
        ]
       ],
       "shape": {
        "columns": 32,
        "rows": 8
       }
      },
      "text/html": [
       "<div>\n",
       "<style scoped>\n",
       "    .dataframe tbody tr th:only-of-type {\n",
       "        vertical-align: middle;\n",
       "    }\n",
       "\n",
       "    .dataframe tbody tr th {\n",
       "        vertical-align: top;\n",
       "    }\n",
       "\n",
       "    .dataframe thead th {\n",
       "        text-align: right;\n",
       "    }\n",
       "</style>\n",
       "<table border=\"1\" class=\"dataframe\">\n",
       "  <thead>\n",
       "    <tr style=\"text-align: right;\">\n",
       "      <th></th>\n",
       "      <th>Rk</th>\n",
       "      <th>Age</th>\n",
       "      <th>Born</th>\n",
       "      <th>MP</th>\n",
       "      <th>Starts</th>\n",
       "      <th>Min</th>\n",
       "      <th>90s</th>\n",
       "      <th>Gls</th>\n",
       "      <th>Ast</th>\n",
       "      <th>G+A</th>\n",
       "      <th>...</th>\n",
       "      <th>Gls.1</th>\n",
       "      <th>Ast.1</th>\n",
       "      <th>G+A.1</th>\n",
       "      <th>G-PK.1</th>\n",
       "      <th>G+A-PK</th>\n",
       "      <th>xG.1</th>\n",
       "      <th>xAG.1</th>\n",
       "      <th>xG+xAG</th>\n",
       "      <th>npxG.1</th>\n",
       "      <th>npxG+xAG.1</th>\n",
       "    </tr>\n",
       "  </thead>\n",
       "  <tbody>\n",
       "    <tr>\n",
       "      <th>count</th>\n",
       "      <td>574.000000</td>\n",
       "      <td>570.000000</td>\n",
       "      <td>570.000000</td>\n",
       "      <td>574.000000</td>\n",
       "      <td>574.000000</td>\n",
       "      <td>574.000000</td>\n",
       "      <td>574.000000</td>\n",
       "      <td>574.000000</td>\n",
       "      <td>574.000000</td>\n",
       "      <td>574.000000</td>\n",
       "      <td>...</td>\n",
       "      <td>574.000000</td>\n",
       "      <td>574.000000</td>\n",
       "      <td>574.000000</td>\n",
       "      <td>574.000000</td>\n",
       "      <td>574.000000</td>\n",
       "      <td>574.000000</td>\n",
       "      <td>574.000000</td>\n",
       "      <td>574.000000</td>\n",
       "      <td>574.000000</td>\n",
       "      <td>574.000000</td>\n",
       "    </tr>\n",
       "    <tr>\n",
       "      <th>mean</th>\n",
       "      <td>287.500000</td>\n",
       "      <td>25.098246</td>\n",
       "      <td>1998.526316</td>\n",
       "      <td>20.151568</td>\n",
       "      <td>14.564460</td>\n",
       "      <td>1308.240418</td>\n",
       "      <td>14.535366</td>\n",
       "      <td>1.885017</td>\n",
       "      <td>1.400697</td>\n",
       "      <td>3.285714</td>\n",
       "      <td>...</td>\n",
       "      <td>0.108362</td>\n",
       "      <td>0.080767</td>\n",
       "      <td>0.189233</td>\n",
       "      <td>0.103659</td>\n",
       "      <td>0.184564</td>\n",
       "      <td>0.142909</td>\n",
       "      <td>0.094059</td>\n",
       "      <td>0.236603</td>\n",
       "      <td>0.138171</td>\n",
       "      <td>0.231777</td>\n",
       "    </tr>\n",
       "    <tr>\n",
       "      <th>std</th>\n",
       "      <td>165.843802</td>\n",
       "      <td>4.450568</td>\n",
       "      <td>4.476477</td>\n",
       "      <td>12.230609</td>\n",
       "      <td>12.304536</td>\n",
       "      <td>1053.645962</td>\n",
       "      <td>11.707284</td>\n",
       "      <td>3.537979</td>\n",
       "      <td>2.253498</td>\n",
       "      <td>5.218296</td>\n",
       "      <td>...</td>\n",
       "      <td>0.179531</td>\n",
       "      <td>0.156157</td>\n",
       "      <td>0.264714</td>\n",
       "      <td>0.172322</td>\n",
       "      <td>0.257252</td>\n",
       "      <td>0.287692</td>\n",
       "      <td>0.120146</td>\n",
       "      <td>0.329482</td>\n",
       "      <td>0.284002</td>\n",
       "      <td>0.324603</td>\n",
       "    </tr>\n",
       "    <tr>\n",
       "      <th>min</th>\n",
       "      <td>1.000000</td>\n",
       "      <td>15.000000</td>\n",
       "      <td>1985.000000</td>\n",
       "      <td>1.000000</td>\n",
       "      <td>0.000000</td>\n",
       "      <td>1.000000</td>\n",
       "      <td>0.000000</td>\n",
       "      <td>0.000000</td>\n",
       "      <td>0.000000</td>\n",
       "      <td>0.000000</td>\n",
       "      <td>...</td>\n",
       "      <td>0.000000</td>\n",
       "      <td>0.000000</td>\n",
       "      <td>0.000000</td>\n",
       "      <td>0.000000</td>\n",
       "      <td>0.000000</td>\n",
       "      <td>0.000000</td>\n",
       "      <td>0.000000</td>\n",
       "      <td>0.000000</td>\n",
       "      <td>0.000000</td>\n",
       "      <td>0.000000</td>\n",
       "    </tr>\n",
       "    <tr>\n",
       "      <th>25%</th>\n",
       "      <td>144.250000</td>\n",
       "      <td>22.000000</td>\n",
       "      <td>1996.000000</td>\n",
       "      <td>9.000000</td>\n",
       "      <td>3.000000</td>\n",
       "      <td>331.250000</td>\n",
       "      <td>3.700000</td>\n",
       "      <td>0.000000</td>\n",
       "      <td>0.000000</td>\n",
       "      <td>0.000000</td>\n",
       "      <td>...</td>\n",
       "      <td>0.000000</td>\n",
       "      <td>0.000000</td>\n",
       "      <td>0.000000</td>\n",
       "      <td>0.000000</td>\n",
       "      <td>0.000000</td>\n",
       "      <td>0.012500</td>\n",
       "      <td>0.010000</td>\n",
       "      <td>0.050000</td>\n",
       "      <td>0.010000</td>\n",
       "      <td>0.050000</td>\n",
       "    </tr>\n",
       "    <tr>\n",
       "      <th>50%</th>\n",
       "      <td>287.500000</td>\n",
       "      <td>25.000000</td>\n",
       "      <td>1999.000000</td>\n",
       "      <td>21.000000</td>\n",
       "      <td>12.000000</td>\n",
       "      <td>1103.500000</td>\n",
       "      <td>12.250000</td>\n",
       "      <td>0.000000</td>\n",
       "      <td>0.000000</td>\n",
       "      <td>1.000000</td>\n",
       "      <td>...</td>\n",
       "      <td>0.000000</td>\n",
       "      <td>0.000000</td>\n",
       "      <td>0.090000</td>\n",
       "      <td>0.000000</td>\n",
       "      <td>0.085000</td>\n",
       "      <td>0.070000</td>\n",
       "      <td>0.060000</td>\n",
       "      <td>0.140000</td>\n",
       "      <td>0.070000</td>\n",
       "      <td>0.140000</td>\n",
       "    </tr>\n",
       "    <tr>\n",
       "      <th>75%</th>\n",
       "      <td>430.750000</td>\n",
       "      <td>28.000000</td>\n",
       "      <td>2002.000000</td>\n",
       "      <td>32.000000</td>\n",
       "      <td>25.000000</td>\n",
       "      <td>2204.000000</td>\n",
       "      <td>24.500000</td>\n",
       "      <td>2.000000</td>\n",
       "      <td>2.000000</td>\n",
       "      <td>4.000000</td>\n",
       "      <td>...</td>\n",
       "      <td>0.150000</td>\n",
       "      <td>0.127500</td>\n",
       "      <td>0.290000</td>\n",
       "      <td>0.140000</td>\n",
       "      <td>0.290000</td>\n",
       "      <td>0.190000</td>\n",
       "      <td>0.140000</td>\n",
       "      <td>0.347500</td>\n",
       "      <td>0.170000</td>\n",
       "      <td>0.340000</td>\n",
       "    </tr>\n",
       "    <tr>\n",
       "      <th>max</th>\n",
       "      <td>574.000000</td>\n",
       "      <td>39.000000</td>\n",
       "      <td>2008.000000</td>\n",
       "      <td>38.000000</td>\n",
       "      <td>38.000000</td>\n",
       "      <td>3420.000000</td>\n",
       "      <td>38.000000</td>\n",
       "      <td>29.000000</td>\n",
       "      <td>18.000000</td>\n",
       "      <td>47.000000</td>\n",
       "      <td>...</td>\n",
       "      <td>1.640000</td>\n",
       "      <td>2.650000</td>\n",
       "      <td>2.650000</td>\n",
       "      <td>1.640000</td>\n",
       "      <td>2.650000</td>\n",
       "      <td>5.060000</td>\n",
       "      <td>1.450000</td>\n",
       "      <td>5.060000</td>\n",
       "      <td>5.060000</td>\n",
       "      <td>5.060000</td>\n",
       "    </tr>\n",
       "  </tbody>\n",
       "</table>\n",
       "<p>8 rows × 32 columns</p>\n",
       "</div>"
      ],
      "text/plain": [
       "               Rk         Age         Born          MP      Starts  \\\n",
       "count  574.000000  570.000000   570.000000  574.000000  574.000000   \n",
       "mean   287.500000   25.098246  1998.526316   20.151568   14.564460   \n",
       "std    165.843802    4.450568     4.476477   12.230609   12.304536   \n",
       "min      1.000000   15.000000  1985.000000    1.000000    0.000000   \n",
       "25%    144.250000   22.000000  1996.000000    9.000000    3.000000   \n",
       "50%    287.500000   25.000000  1999.000000   21.000000   12.000000   \n",
       "75%    430.750000   28.000000  2002.000000   32.000000   25.000000   \n",
       "max    574.000000   39.000000  2008.000000   38.000000   38.000000   \n",
       "\n",
       "               Min         90s         Gls         Ast         G+A  ...  \\\n",
       "count   574.000000  574.000000  574.000000  574.000000  574.000000  ...   \n",
       "mean   1308.240418   14.535366    1.885017    1.400697    3.285714  ...   \n",
       "std    1053.645962   11.707284    3.537979    2.253498    5.218296  ...   \n",
       "min       1.000000    0.000000    0.000000    0.000000    0.000000  ...   \n",
       "25%     331.250000    3.700000    0.000000    0.000000    0.000000  ...   \n",
       "50%    1103.500000   12.250000    0.000000    0.000000    1.000000  ...   \n",
       "75%    2204.000000   24.500000    2.000000    2.000000    4.000000  ...   \n",
       "max    3420.000000   38.000000   29.000000   18.000000   47.000000  ...   \n",
       "\n",
       "            Gls.1       Ast.1       G+A.1      G-PK.1      G+A-PK        xG.1  \\\n",
       "count  574.000000  574.000000  574.000000  574.000000  574.000000  574.000000   \n",
       "mean     0.108362    0.080767    0.189233    0.103659    0.184564    0.142909   \n",
       "std      0.179531    0.156157    0.264714    0.172322    0.257252    0.287692   \n",
       "min      0.000000    0.000000    0.000000    0.000000    0.000000    0.000000   \n",
       "25%      0.000000    0.000000    0.000000    0.000000    0.000000    0.012500   \n",
       "50%      0.000000    0.000000    0.090000    0.000000    0.085000    0.070000   \n",
       "75%      0.150000    0.127500    0.290000    0.140000    0.290000    0.190000   \n",
       "max      1.640000    2.650000    2.650000    1.640000    2.650000    5.060000   \n",
       "\n",
       "            xAG.1      xG+xAG      npxG.1  npxG+xAG.1  \n",
       "count  574.000000  574.000000  574.000000  574.000000  \n",
       "mean     0.094059    0.236603    0.138171    0.231777  \n",
       "std      0.120146    0.329482    0.284002    0.324603  \n",
       "min      0.000000    0.000000    0.000000    0.000000  \n",
       "25%      0.010000    0.050000    0.010000    0.050000  \n",
       "50%      0.060000    0.140000    0.070000    0.140000  \n",
       "75%      0.140000    0.347500    0.170000    0.340000  \n",
       "max      1.450000    5.060000    5.060000    5.060000  \n",
       "\n",
       "[8 rows x 32 columns]"
      ]
     },
     "execution_count": 27,
     "metadata": {},
     "output_type": "execute_result"
    }
   ],
   "source": [
    "df.describe()"
   ]
  },
  {
   "cell_type": "markdown",
   "id": "2e7d3134",
   "metadata": {},
   "source": [
    "## 2. Column Name Standardization\n",
    "### Issue: Duplicate Column Names\n",
    "Some statistics have duplicate columns with different purposes:\n",
    "- First instance: Raw values (e.g., `Gls`, `Ast`)\n",
    "- Second instance: Per 90 minutes values (e.g., `Gls.1`, `Ast.1`)\n",
    "\n",
    "### Solution:\n",
    "Renamed second instances to include '/90s' suffix for clarity:\n",
    "- `Gls.1` → `Gls/90s`\n",
    "- `Ast.1` → `Ast/90s`\n",
    "- etc."
   ]
  },
  {
   "cell_type": "code",
   "execution_count": 28,
   "id": "0356ea5d",
   "metadata": {},
   "outputs": [
    {
     "data": {
      "application/vnd.microsoft.datawrangler.viewer.v0+json": {
       "columns": [
        {
         "name": "index",
         "rawType": "int64",
         "type": "integer"
        },
        {
         "name": "0",
         "rawType": "bool",
         "type": "boolean"
        }
       ],
       "ref": "2ef09f34-6803-46e5-80b2-939b6c10f942",
       "rows": [
        [
         "0",
         "True"
        ],
        [
         "1",
         "True"
        ],
        [
         "2",
         "True"
        ],
        [
         "3",
         "True"
        ],
        [
         "4",
         "True"
        ],
        [
         "5",
         "True"
        ],
        [
         "6",
         "True"
        ],
        [
         "7",
         "True"
        ],
        [
         "8",
         "True"
        ],
        [
         "9",
         "True"
        ],
        [
         "10",
         "True"
        ],
        [
         "11",
         "True"
        ],
        [
         "12",
         "True"
        ],
        [
         "13",
         "True"
        ],
        [
         "14",
         "True"
        ],
        [
         "15",
         "True"
        ],
        [
         "16",
         "True"
        ],
        [
         "17",
         "False"
        ],
        [
         "18",
         "True"
        ],
        [
         "19",
         "False"
        ],
        [
         "20",
         "True"
        ],
        [
         "21",
         "True"
        ],
        [
         "22",
         "True"
        ],
        [
         "23",
         "True"
        ],
        [
         "24",
         "True"
        ],
        [
         "25",
         "True"
        ],
        [
         "26",
         "True"
        ],
        [
         "27",
         "True"
        ],
        [
         "28",
         "True"
        ],
        [
         "29",
         "True"
        ]
       ],
       "shape": {
        "columns": 1,
        "rows": 30
       }
      },
      "text/plain": [
       "0      True\n",
       "1      True\n",
       "2      True\n",
       "3      True\n",
       "4      True\n",
       "5      True\n",
       "6      True\n",
       "7      True\n",
       "8      True\n",
       "9      True\n",
       "10     True\n",
       "11     True\n",
       "12     True\n",
       "13     True\n",
       "14     True\n",
       "15     True\n",
       "16     True\n",
       "17    False\n",
       "18     True\n",
       "19    False\n",
       "20     True\n",
       "21     True\n",
       "22     True\n",
       "23     True\n",
       "24     True\n",
       "25     True\n",
       "26     True\n",
       "27     True\n",
       "28     True\n",
       "29     True\n",
       "dtype: bool"
      ]
     },
     "execution_count": 28,
     "metadata": {},
     "output_type": "execute_result"
    }
   ],
   "source": [
    "isSimilar = (df['Gls'] / df['90s']).round(2) == df['Gls.1']\n",
    "\n",
    "isSimilar.head(30)\n"
   ]
  },
  {
   "cell_type": "code",
   "execution_count": 29,
   "id": "93cc7f48",
   "metadata": {},
   "outputs": [],
   "source": [
    "df=df.rename(columns={'Gls.1':'Gls/90s','Ast.1':'Ast/90s','G+A.1':'G+A/90s','G-PK.1':'G-PK/90s','xG.1':'xG/90s','xAG.1':'xAG/90s','npxG.1':'npxG/90s','npxG+xAG.1':'npxG+xAG/90s'})"
   ]
  },
  {
   "cell_type": "markdown",
   "id": "2297d4e4",
   "metadata": {},
   "source": [
    "## 3. Missing Data Handling\n",
    "### Issue: Missing Player Information\n",
    "Found 4 players with missing demographic data (Age, Born, Nation)"
   ]
  },
  {
   "cell_type": "code",
   "execution_count": 30,
   "id": "fefe2b48",
   "metadata": {},
   "outputs": [
    {
     "data": {
      "application/vnd.microsoft.datawrangler.viewer.v0+json": {
       "columns": [
        {
         "name": "index",
         "rawType": "object",
         "type": "string"
        },
        {
         "name": "0",
         "rawType": "int64",
         "type": "integer"
        }
       ],
       "ref": "ebce098d-9ec1-45ae-931c-25a9ab2bbe3b",
       "rows": [
        [
         "Nation",
         "4"
        ],
        [
         "Age",
         "4"
        ],
        [
         "Born",
         "4"
        ],
        [
         "Rk",
         "0"
        ],
        [
         "Pos",
         "0"
        ],
        [
         "Player",
         "0"
        ],
        [
         "Squad",
         "0"
        ],
        [
         "MP",
         "0"
        ],
        [
         "Starts",
         "0"
        ],
        [
         "Min",
         "0"
        ],
        [
         "90s",
         "0"
        ],
        [
         "Gls",
         "0"
        ],
        [
         "Ast",
         "0"
        ],
        [
         "G+A",
         "0"
        ],
        [
         "G-PK",
         "0"
        ],
        [
         "PK",
         "0"
        ],
        [
         "PKatt",
         "0"
        ],
        [
         "CrdY",
         "0"
        ],
        [
         "CrdR",
         "0"
        ],
        [
         "xG",
         "0"
        ],
        [
         "npxG",
         "0"
        ],
        [
         "xAG",
         "0"
        ],
        [
         "npxG+xAG",
         "0"
        ],
        [
         "PrgC",
         "0"
        ],
        [
         "PrgP",
         "0"
        ],
        [
         "PrgR",
         "0"
        ],
        [
         "Gls/90s",
         "0"
        ],
        [
         "Ast/90s",
         "0"
        ],
        [
         "G+A/90s",
         "0"
        ],
        [
         "G-PK/90s",
         "0"
        ],
        [
         "G+A-PK",
         "0"
        ],
        [
         "xG/90s",
         "0"
        ],
        [
         "xAG/90s",
         "0"
        ],
        [
         "xG+xAG",
         "0"
        ],
        [
         "npxG/90s",
         "0"
        ],
        [
         "npxG+xAG/90s",
         "0"
        ]
       ],
       "shape": {
        "columns": 1,
        "rows": 36
       }
      },
      "text/plain": [
       "Nation          4\n",
       "Age             4\n",
       "Born            4\n",
       "Rk              0\n",
       "Pos             0\n",
       "Player          0\n",
       "Squad           0\n",
       "MP              0\n",
       "Starts          0\n",
       "Min             0\n",
       "90s             0\n",
       "Gls             0\n",
       "Ast             0\n",
       "G+A             0\n",
       "G-PK            0\n",
       "PK              0\n",
       "PKatt           0\n",
       "CrdY            0\n",
       "CrdR            0\n",
       "xG              0\n",
       "npxG            0\n",
       "xAG             0\n",
       "npxG+xAG        0\n",
       "PrgC            0\n",
       "PrgP            0\n",
       "PrgR            0\n",
       "Gls/90s         0\n",
       "Ast/90s         0\n",
       "G+A/90s         0\n",
       "G-PK/90s        0\n",
       "G+A-PK          0\n",
       "xG/90s          0\n",
       "xAG/90s         0\n",
       "xG+xAG          0\n",
       "npxG/90s        0\n",
       "npxG+xAG/90s    0\n",
       "dtype: int64"
      ]
     },
     "execution_count": 30,
     "metadata": {},
     "output_type": "execute_result"
    }
   ],
   "source": [
    "df.isnull().sum().sort_values(ascending=False)"
   ]
  },
  {
   "cell_type": "code",
   "execution_count": 31,
   "id": "bb525a8f",
   "metadata": {},
   "outputs": [
    {
     "data": {
      "application/vnd.microsoft.datawrangler.viewer.v0+json": {
       "columns": [
        {
         "name": "index",
         "rawType": "int64",
         "type": "integer"
        },
        {
         "name": "Rk",
         "rawType": "int64",
         "type": "integer"
        },
        {
         "name": "Player",
         "rawType": "object",
         "type": "string"
        },
        {
         "name": "Nation",
         "rawType": "object",
         "type": "unknown"
        },
        {
         "name": "Pos",
         "rawType": "object",
         "type": "string"
        },
        {
         "name": "Squad",
         "rawType": "object",
         "type": "string"
        },
        {
         "name": "Age",
         "rawType": "float64",
         "type": "float"
        },
        {
         "name": "Born",
         "rawType": "float64",
         "type": "float"
        },
        {
         "name": "MP",
         "rawType": "int64",
         "type": "integer"
        },
        {
         "name": "Starts",
         "rawType": "int64",
         "type": "integer"
        },
        {
         "name": "Min",
         "rawType": "int64",
         "type": "integer"
        },
        {
         "name": "90s",
         "rawType": "float64",
         "type": "float"
        },
        {
         "name": "Gls",
         "rawType": "int64",
         "type": "integer"
        },
        {
         "name": "Ast",
         "rawType": "int64",
         "type": "integer"
        },
        {
         "name": "G+A",
         "rawType": "int64",
         "type": "integer"
        },
        {
         "name": "G-PK",
         "rawType": "int64",
         "type": "integer"
        },
        {
         "name": "PK",
         "rawType": "int64",
         "type": "integer"
        },
        {
         "name": "PKatt",
         "rawType": "int64",
         "type": "integer"
        },
        {
         "name": "CrdY",
         "rawType": "int64",
         "type": "integer"
        },
        {
         "name": "CrdR",
         "rawType": "int64",
         "type": "integer"
        },
        {
         "name": "xG",
         "rawType": "float64",
         "type": "float"
        },
        {
         "name": "npxG",
         "rawType": "float64",
         "type": "float"
        },
        {
         "name": "xAG",
         "rawType": "float64",
         "type": "float"
        },
        {
         "name": "npxG+xAG",
         "rawType": "float64",
         "type": "float"
        },
        {
         "name": "PrgC",
         "rawType": "int64",
         "type": "integer"
        },
        {
         "name": "PrgP",
         "rawType": "int64",
         "type": "integer"
        },
        {
         "name": "PrgR",
         "rawType": "int64",
         "type": "integer"
        },
        {
         "name": "Gls/90s",
         "rawType": "float64",
         "type": "float"
        },
        {
         "name": "Ast/90s",
         "rawType": "float64",
         "type": "float"
        },
        {
         "name": "G+A/90s",
         "rawType": "float64",
         "type": "float"
        },
        {
         "name": "G-PK/90s",
         "rawType": "float64",
         "type": "float"
        },
        {
         "name": "G+A-PK",
         "rawType": "float64",
         "type": "float"
        },
        {
         "name": "xG/90s",
         "rawType": "float64",
         "type": "float"
        },
        {
         "name": "xAG/90s",
         "rawType": "float64",
         "type": "float"
        },
        {
         "name": "xG+xAG",
         "rawType": "float64",
         "type": "float"
        },
        {
         "name": "npxG/90s",
         "rawType": "float64",
         "type": "float"
        },
        {
         "name": "npxG+xAG/90s",
         "rawType": "float64",
         "type": "float"
        }
       ],
       "ref": "2d1a230a-74b7-4e67-987c-477fe3437fd2",
       "rows": [
        [
         "17",
         "18",
         "Olabade Aluko",
         null,
         "DF",
         "Leicester City",
         null,
         null,
         "1",
         "0",
         "2",
         "0.0",
         "0",
         "0",
         "0",
         "0",
         "0",
         "0",
         "0",
         "0",
         "0.0",
         "0.0",
         "0.0",
         "0.0",
         "0",
         "0",
         "0",
         "0.0",
         "0.0",
         "0.0",
         "0.0",
         "0.0",
         "0.0",
         "0.0",
         "0.0",
         "0.0",
         "0.0"
        ],
        [
         "171",
         "172",
         "Jake Evans",
         null,
         "FW",
         "Leicester City",
         null,
         null,
         "4",
         "0",
         "24",
         "0.3",
         "0",
         "0",
         "0",
         "0",
         "0",
         "0",
         "0",
         "0",
         "0.0",
         "0.0",
         "0.0",
         "0.0",
         "0",
         "0",
         "1",
         "0.0",
         "0.0",
         "0.0",
         "0.0",
         "0.0",
         "0.0",
         "0.0",
         "0.0",
         "0.0",
         "0.0"
        ],
        [
         "327",
         "328",
         "Mateus Mane",
         null,
         "MF",
         "Wolves",
         null,
         null,
         "1",
         "0",
         "2",
         "0.0",
         "0",
         "0",
         "0",
         "0",
         "0",
         "0",
         "0",
         "0",
         "0.0",
         "0.0",
         "0.0",
         "0.0",
         "0",
         "0",
         "0",
         "0.0",
         "0.0",
         "0.0",
         "0.0",
         "0.0",
         "0.0",
         "0.0",
         "0.0",
         "0.0",
         "0.0"
        ],
        [
         "359",
         "360",
         "Jeremy Monga",
         null,
         "FW,MF",
         "Leicester City",
         null,
         null,
         "7",
         "0",
         "112",
         "1.2",
         "0",
         "0",
         "0",
         "0",
         "0",
         "0",
         "0",
         "0",
         "0.2",
         "0.2",
         "0.0",
         "0.2",
         "6",
         "3",
         "10",
         "0.0",
         "0.0",
         "0.0",
         "0.0",
         "0.0",
         "0.13",
         "0.01",
         "0.14",
         "0.13",
         "0.14"
        ]
       ],
       "shape": {
        "columns": 36,
        "rows": 4
       }
      },
      "text/html": [
       "<div>\n",
       "<style scoped>\n",
       "    .dataframe tbody tr th:only-of-type {\n",
       "        vertical-align: middle;\n",
       "    }\n",
       "\n",
       "    .dataframe tbody tr th {\n",
       "        vertical-align: top;\n",
       "    }\n",
       "\n",
       "    .dataframe thead th {\n",
       "        text-align: right;\n",
       "    }\n",
       "</style>\n",
       "<table border=\"1\" class=\"dataframe\">\n",
       "  <thead>\n",
       "    <tr style=\"text-align: right;\">\n",
       "      <th></th>\n",
       "      <th>Rk</th>\n",
       "      <th>Player</th>\n",
       "      <th>Nation</th>\n",
       "      <th>Pos</th>\n",
       "      <th>Squad</th>\n",
       "      <th>Age</th>\n",
       "      <th>Born</th>\n",
       "      <th>MP</th>\n",
       "      <th>Starts</th>\n",
       "      <th>Min</th>\n",
       "      <th>...</th>\n",
       "      <th>Gls/90s</th>\n",
       "      <th>Ast/90s</th>\n",
       "      <th>G+A/90s</th>\n",
       "      <th>G-PK/90s</th>\n",
       "      <th>G+A-PK</th>\n",
       "      <th>xG/90s</th>\n",
       "      <th>xAG/90s</th>\n",
       "      <th>xG+xAG</th>\n",
       "      <th>npxG/90s</th>\n",
       "      <th>npxG+xAG/90s</th>\n",
       "    </tr>\n",
       "  </thead>\n",
       "  <tbody>\n",
       "    <tr>\n",
       "      <th>17</th>\n",
       "      <td>18</td>\n",
       "      <td>Olabade Aluko</td>\n",
       "      <td>NaN</td>\n",
       "      <td>DF</td>\n",
       "      <td>Leicester City</td>\n",
       "      <td>NaN</td>\n",
       "      <td>NaN</td>\n",
       "      <td>1</td>\n",
       "      <td>0</td>\n",
       "      <td>2</td>\n",
       "      <td>...</td>\n",
       "      <td>0.0</td>\n",
       "      <td>0.0</td>\n",
       "      <td>0.0</td>\n",
       "      <td>0.0</td>\n",
       "      <td>0.0</td>\n",
       "      <td>0.00</td>\n",
       "      <td>0.00</td>\n",
       "      <td>0.00</td>\n",
       "      <td>0.00</td>\n",
       "      <td>0.00</td>\n",
       "    </tr>\n",
       "    <tr>\n",
       "      <th>171</th>\n",
       "      <td>172</td>\n",
       "      <td>Jake Evans</td>\n",
       "      <td>NaN</td>\n",
       "      <td>FW</td>\n",
       "      <td>Leicester City</td>\n",
       "      <td>NaN</td>\n",
       "      <td>NaN</td>\n",
       "      <td>4</td>\n",
       "      <td>0</td>\n",
       "      <td>24</td>\n",
       "      <td>...</td>\n",
       "      <td>0.0</td>\n",
       "      <td>0.0</td>\n",
       "      <td>0.0</td>\n",
       "      <td>0.0</td>\n",
       "      <td>0.0</td>\n",
       "      <td>0.00</td>\n",
       "      <td>0.00</td>\n",
       "      <td>0.00</td>\n",
       "      <td>0.00</td>\n",
       "      <td>0.00</td>\n",
       "    </tr>\n",
       "    <tr>\n",
       "      <th>327</th>\n",
       "      <td>328</td>\n",
       "      <td>Mateus Mane</td>\n",
       "      <td>NaN</td>\n",
       "      <td>MF</td>\n",
       "      <td>Wolves</td>\n",
       "      <td>NaN</td>\n",
       "      <td>NaN</td>\n",
       "      <td>1</td>\n",
       "      <td>0</td>\n",
       "      <td>2</td>\n",
       "      <td>...</td>\n",
       "      <td>0.0</td>\n",
       "      <td>0.0</td>\n",
       "      <td>0.0</td>\n",
       "      <td>0.0</td>\n",
       "      <td>0.0</td>\n",
       "      <td>0.00</td>\n",
       "      <td>0.00</td>\n",
       "      <td>0.00</td>\n",
       "      <td>0.00</td>\n",
       "      <td>0.00</td>\n",
       "    </tr>\n",
       "    <tr>\n",
       "      <th>359</th>\n",
       "      <td>360</td>\n",
       "      <td>Jeremy Monga</td>\n",
       "      <td>NaN</td>\n",
       "      <td>FW,MF</td>\n",
       "      <td>Leicester City</td>\n",
       "      <td>NaN</td>\n",
       "      <td>NaN</td>\n",
       "      <td>7</td>\n",
       "      <td>0</td>\n",
       "      <td>112</td>\n",
       "      <td>...</td>\n",
       "      <td>0.0</td>\n",
       "      <td>0.0</td>\n",
       "      <td>0.0</td>\n",
       "      <td>0.0</td>\n",
       "      <td>0.0</td>\n",
       "      <td>0.13</td>\n",
       "      <td>0.01</td>\n",
       "      <td>0.14</td>\n",
       "      <td>0.13</td>\n",
       "      <td>0.14</td>\n",
       "    </tr>\n",
       "  </tbody>\n",
       "</table>\n",
       "<p>4 rows × 36 columns</p>\n",
       "</div>"
      ],
      "text/plain": [
       "      Rk         Player Nation    Pos           Squad  Age  Born  MP  Starts  \\\n",
       "17    18  Olabade Aluko    NaN     DF  Leicester City  NaN   NaN   1       0   \n",
       "171  172     Jake Evans    NaN     FW  Leicester City  NaN   NaN   4       0   \n",
       "327  328    Mateus Mane    NaN     MF          Wolves  NaN   NaN   1       0   \n",
       "359  360   Jeremy Monga    NaN  FW,MF  Leicester City  NaN   NaN   7       0   \n",
       "\n",
       "     Min  ...  Gls/90s  Ast/90s  G+A/90s  G-PK/90s  G+A-PK  xG/90s  xAG/90s  \\\n",
       "17     2  ...      0.0      0.0      0.0       0.0     0.0    0.00     0.00   \n",
       "171   24  ...      0.0      0.0      0.0       0.0     0.0    0.00     0.00   \n",
       "327    2  ...      0.0      0.0      0.0       0.0     0.0    0.00     0.00   \n",
       "359  112  ...      0.0      0.0      0.0       0.0     0.0    0.13     0.01   \n",
       "\n",
       "     xG+xAG  npxG/90s  npxG+xAG/90s  \n",
       "17     0.00      0.00          0.00  \n",
       "171    0.00      0.00          0.00  \n",
       "327    0.00      0.00          0.00  \n",
       "359    0.14      0.13          0.14  \n",
       "\n",
       "[4 rows x 36 columns]"
      ]
     },
     "execution_count": 31,
     "metadata": {},
     "output_type": "execute_result"
    }
   ],
   "source": [
    "df[df.isnull().any(axis=1)]"
   ]
  },
  {
   "cell_type": "code",
   "execution_count": 32,
   "id": "96f1417b",
   "metadata": {},
   "outputs": [],
   "source": [
    "missing_players = {\n",
    "    \"Jake Evans\":  {\"Age\": 17.0, \"Born\": 2008.0, \"Nation\": \"eng ENG\"},\n",
    "    \"Jeremy Monga\": {\"Age\": 16.0, \"Born\": 2009.0, \"Nation\": \"eng ENG\"},\n",
    "    \"Mateus Mane\":  {\"Age\": 17.0, \"Born\": 2007.0, \"Nation\": \"pt POR\"},\n",
    "    \"Olabde Aluko\": {\"Age\": 18.0, \"Born\": 2006.0, \"Nation\": \"eng ENG\"}\n",
    "}\n",
    "\n",
    "for player,values in missing_players.items():\n",
    "    for col,val in values.items():\n",
    "        df.loc[df[\"Player\"]==player,col]=val"
   ]
  },
  {
   "cell_type": "markdown",
   "id": "a365a2da",
   "metadata": {},
   "source": [
    "## 4. Data Type Consistency\n",
    "### Changes Made:\n",
    "- Converted 'Age' to Int64\n",
    "- Converted 'Born' to Int64"
   ]
  },
  {
   "cell_type": "code",
   "execution_count": 33,
   "id": "08d46c14",
   "metadata": {},
   "outputs": [
    {
     "data": {
      "application/vnd.microsoft.datawrangler.viewer.v0+json": {
       "columns": [
        {
         "name": "index",
         "rawType": "object",
         "type": "string"
        },
        {
         "name": "0",
         "rawType": "object",
         "type": "unknown"
        }
       ],
       "ref": "2827ade6-ce0c-498b-8003-6db8f706c3ff",
       "rows": [
        [
         "Rk",
         "int64"
        ],
        [
         "Player",
         "object"
        ],
        [
         "Nation",
         "object"
        ],
        [
         "Pos",
         "object"
        ],
        [
         "Squad",
         "object"
        ],
        [
         "Age",
         "float64"
        ],
        [
         "Born",
         "float64"
        ],
        [
         "MP",
         "int64"
        ],
        [
         "Starts",
         "int64"
        ],
        [
         "Min",
         "int64"
        ],
        [
         "90s",
         "float64"
        ],
        [
         "Gls",
         "int64"
        ],
        [
         "Ast",
         "int64"
        ],
        [
         "G+A",
         "int64"
        ],
        [
         "G-PK",
         "int64"
        ],
        [
         "PK",
         "int64"
        ],
        [
         "PKatt",
         "int64"
        ],
        [
         "CrdY",
         "int64"
        ],
        [
         "CrdR",
         "int64"
        ],
        [
         "xG",
         "float64"
        ],
        [
         "npxG",
         "float64"
        ],
        [
         "xAG",
         "float64"
        ],
        [
         "npxG+xAG",
         "float64"
        ],
        [
         "PrgC",
         "int64"
        ],
        [
         "PrgP",
         "int64"
        ],
        [
         "PrgR",
         "int64"
        ],
        [
         "Gls/90s",
         "float64"
        ],
        [
         "Ast/90s",
         "float64"
        ],
        [
         "G+A/90s",
         "float64"
        ],
        [
         "G-PK/90s",
         "float64"
        ],
        [
         "G+A-PK",
         "float64"
        ],
        [
         "xG/90s",
         "float64"
        ],
        [
         "xAG/90s",
         "float64"
        ],
        [
         "xG+xAG",
         "float64"
        ],
        [
         "npxG/90s",
         "float64"
        ],
        [
         "npxG+xAG/90s",
         "float64"
        ]
       ],
       "shape": {
        "columns": 1,
        "rows": 36
       }
      },
      "text/plain": [
       "Rk                int64\n",
       "Player           object\n",
       "Nation           object\n",
       "Pos              object\n",
       "Squad            object\n",
       "Age             float64\n",
       "Born            float64\n",
       "MP                int64\n",
       "Starts            int64\n",
       "Min               int64\n",
       "90s             float64\n",
       "Gls               int64\n",
       "Ast               int64\n",
       "G+A               int64\n",
       "G-PK              int64\n",
       "PK                int64\n",
       "PKatt             int64\n",
       "CrdY              int64\n",
       "CrdR              int64\n",
       "xG              float64\n",
       "npxG            float64\n",
       "xAG             float64\n",
       "npxG+xAG        float64\n",
       "PrgC              int64\n",
       "PrgP              int64\n",
       "PrgR              int64\n",
       "Gls/90s         float64\n",
       "Ast/90s         float64\n",
       "G+A/90s         float64\n",
       "G-PK/90s        float64\n",
       "G+A-PK          float64\n",
       "xG/90s          float64\n",
       "xAG/90s         float64\n",
       "xG+xAG          float64\n",
       "npxG/90s        float64\n",
       "npxG+xAG/90s    float64\n",
       "dtype: object"
      ]
     },
     "execution_count": 33,
     "metadata": {},
     "output_type": "execute_result"
    }
   ],
   "source": [
    "df.dtypes"
   ]
  },
  {
   "cell_type": "code",
   "execution_count": 34,
   "id": "0193dd1f",
   "metadata": {},
   "outputs": [],
   "source": [
    "df['Age']=pd.to_numeric(df[\"Age\"],errors='coerce').astype('Int64')\n",
    "df['Born']=pd.to_numeric(df[\"Born\"],errors='coerce').astype('Int64')"
   ]
  },
  {
   "cell_type": "code",
   "execution_count": 35,
   "id": "fb75019c",
   "metadata": {},
   "outputs": [
    {
     "data": {
      "application/vnd.microsoft.datawrangler.viewer.v0+json": {
       "columns": [
        {
         "name": "index",
         "rawType": "object",
         "type": "string"
        },
        {
         "name": "0",
         "rawType": "object",
         "type": "unknown"
        }
       ],
       "ref": "13fb9a98-b65b-4c92-8ad7-c1dd37aac448",
       "rows": [
        [
         "Rk",
         "int64"
        ],
        [
         "Player",
         "object"
        ],
        [
         "Nation",
         "object"
        ],
        [
         "Pos",
         "object"
        ],
        [
         "Squad",
         "object"
        ],
        [
         "Age",
         "Int64"
        ],
        [
         "Born",
         "Int64"
        ],
        [
         "MP",
         "int64"
        ],
        [
         "Starts",
         "int64"
        ],
        [
         "Min",
         "int64"
        ],
        [
         "90s",
         "float64"
        ],
        [
         "Gls",
         "int64"
        ],
        [
         "Ast",
         "int64"
        ],
        [
         "G+A",
         "int64"
        ],
        [
         "G-PK",
         "int64"
        ],
        [
         "PK",
         "int64"
        ],
        [
         "PKatt",
         "int64"
        ],
        [
         "CrdY",
         "int64"
        ],
        [
         "CrdR",
         "int64"
        ],
        [
         "xG",
         "float64"
        ],
        [
         "npxG",
         "float64"
        ],
        [
         "xAG",
         "float64"
        ],
        [
         "npxG+xAG",
         "float64"
        ],
        [
         "PrgC",
         "int64"
        ],
        [
         "PrgP",
         "int64"
        ],
        [
         "PrgR",
         "int64"
        ],
        [
         "Gls/90s",
         "float64"
        ],
        [
         "Ast/90s",
         "float64"
        ],
        [
         "G+A/90s",
         "float64"
        ],
        [
         "G-PK/90s",
         "float64"
        ],
        [
         "G+A-PK",
         "float64"
        ],
        [
         "xG/90s",
         "float64"
        ],
        [
         "xAG/90s",
         "float64"
        ],
        [
         "xG+xAG",
         "float64"
        ],
        [
         "npxG/90s",
         "float64"
        ],
        [
         "npxG+xAG/90s",
         "float64"
        ]
       ],
       "shape": {
        "columns": 1,
        "rows": 36
       }
      },
      "text/plain": [
       "Rk                int64\n",
       "Player           object\n",
       "Nation           object\n",
       "Pos              object\n",
       "Squad            object\n",
       "Age               Int64\n",
       "Born              Int64\n",
       "MP                int64\n",
       "Starts            int64\n",
       "Min               int64\n",
       "90s             float64\n",
       "Gls               int64\n",
       "Ast               int64\n",
       "G+A               int64\n",
       "G-PK              int64\n",
       "PK                int64\n",
       "PKatt             int64\n",
       "CrdY              int64\n",
       "CrdR              int64\n",
       "xG              float64\n",
       "npxG            float64\n",
       "xAG             float64\n",
       "npxG+xAG        float64\n",
       "PrgC              int64\n",
       "PrgP              int64\n",
       "PrgR              int64\n",
       "Gls/90s         float64\n",
       "Ast/90s         float64\n",
       "G+A/90s         float64\n",
       "G-PK/90s        float64\n",
       "G+A-PK          float64\n",
       "xG/90s          float64\n",
       "xAG/90s         float64\n",
       "xG+xAG          float64\n",
       "npxG/90s        float64\n",
       "npxG+xAG/90s    float64\n",
       "dtype: object"
      ]
     },
     "execution_count": 35,
     "metadata": {},
     "output_type": "execute_result"
    }
   ],
   "source": [
    "df.dtypes"
   ]
  },
  {
   "cell_type": "markdown",
   "id": "a1ba002f",
   "metadata": {},
   "source": [
    "## 5. Nationality Standardization\n",
    "### Issue:\n",
    "Nation data not following ISO2 standard format (e.g., \"eng ENG\")\n",
    "\n",
    "### Solution:\n",
    "Standardized to use only the three-letter country code (e.g., \"ENG\")"
   ]
  },
  {
   "cell_type": "code",
   "execution_count": 36,
   "id": "94bd0a09",
   "metadata": {},
   "outputs": [
    {
     "data": {
      "application/vnd.microsoft.datawrangler.viewer.v0+json": {
       "columns": [
        {
         "name": "index",
         "rawType": "int64",
         "type": "integer"
        },
        {
         "name": "Nation",
         "rawType": "object",
         "type": "unknown"
        }
       ],
       "ref": "f6645949-2d0d-44f6-88d7-e49337e5ce78",
       "rows": [
        [
         "70",
         "al ALB"
        ],
        [
         "318",
         "ar ARG"
        ],
        [
         "182",
         "ar ARG"
        ],
        [
         "13",
         "ar ARG"
        ],
        [
         "12",
         "ar ARG"
        ],
        [
         "334",
         "ar ARG"
        ],
        [
         "333",
         "ar ARG"
        ],
        [
         "482",
         "ar ARG"
        ],
        [
         "442",
         "ar ARG"
        ],
        [
         "72",
         "ar ARG"
        ],
        [
         "74",
         "ar ARG"
        ],
        [
         "445",
         "ar ARG"
        ],
        [
         "195",
         "ar ARG"
        ],
        [
         "467",
         "ar ARG"
        ],
        [
         "143",
         "ar ARG"
        ],
        [
         "154",
         "ar ARG"
        ],
        [
         "121",
         "at AUT"
        ],
        [
         "75",
         "au AUS"
        ],
        [
         "316",
         "au AUS"
        ],
        [
         "98",
         "bd BAN"
        ],
        [
         "175",
         "be BEL"
        ],
        [
         "509",
         "be BEL"
        ],
        [
         "90",
         "be BEL"
        ],
        [
         "125",
         "be BEL"
        ],
        [
         "328",
         "be BEL"
        ],
        [
         "464",
         "be BEL"
        ],
        [
         "301",
         "be BEL"
        ],
        [
         "523",
         "be BEL"
        ],
        [
         "142",
         "be BEL"
        ],
        [
         "397",
         "be BEL"
        ],
        [
         "404",
         "bf BFA"
        ],
        [
         "140",
         "bf BFA"
        ],
        [
         "556",
         "br BRA"
        ],
        [
         "260",
         "br BRA"
        ],
        [
         "119",
         "br BRA"
        ],
        [
         "155",
         "br BRA"
        ],
        [
         "372",
         "br BRA"
        ],
        [
         "115",
         "br BRA"
        ],
        [
         "248",
         "br BRA"
        ],
        [
         "188",
         "br BRA"
        ],
        [
         "361",
         "br BRA"
        ],
        [
         "321",
         "br BRA"
        ],
        [
         "433",
         "br BRA"
        ],
        [
         "170",
         "br BRA"
        ],
        [
         "437",
         "br BRA"
        ],
        [
         "309",
         "br BRA"
        ],
        [
         "203",
         "br BRA"
        ],
        [
         "332",
         "br BRA"
        ],
        [
         "15",
         "br BRA"
        ],
        [
         "219",
         "br BRA"
        ]
       ],
       "shape": {
        "columns": 1,
        "rows": 574
       }
      },
      "text/plain": [
       "70      al ALB\n",
       "318     ar ARG\n",
       "182     ar ARG\n",
       "13      ar ARG\n",
       "12      ar ARG\n",
       "        ...   \n",
       "559    wls WAL\n",
       "371     xk KVX\n",
       "116     zm ZAM\n",
       "368     zw ZIM\n",
       "17         NaN\n",
       "Name: Nation, Length: 574, dtype: object"
      ]
     },
     "execution_count": 36,
     "metadata": {},
     "output_type": "execute_result"
    }
   ],
   "source": [
    "df['Nation'].sort_values()"
   ]
  },
  {
   "cell_type": "code",
   "execution_count": 37,
   "id": "9363f885",
   "metadata": {},
   "outputs": [
    {
     "data": {
      "application/vnd.microsoft.datawrangler.viewer.v0+json": {
       "columns": [
        {
         "name": "index",
         "rawType": "int64",
         "type": "integer"
        },
        {
         "name": "Nation",
         "rawType": "object",
         "type": "unknown"
        }
       ],
       "ref": "564646a7-b5d9-405e-8233-0c8ffc312b51",
       "rows": [
        [
         "0",
         "ENG"
        ],
        [
         "1",
         "ENG"
        ],
        [
         "2",
         "USA"
        ],
        [
         "3",
         "ENG"
        ],
        [
         "4",
         "CIV"
        ],
        [
         "5",
         "CIV"
        ],
        [
         "6",
         "ENG"
        ],
        [
         "7",
         "NGA"
        ],
        [
         "8",
         "ALG"
        ],
        [
         "9",
         "NOR"
        ],
        [
         "10",
         "SUI"
        ],
        [
         "11",
         "NED"
        ],
        [
         "12",
         "ARG"
        ],
        [
         "13",
         "ARG"
        ],
        [
         "14",
         "ENG"
        ],
        [
         "15",
         "BRA"
        ],
        [
         "16",
         "PAR"
        ],
        [
         "17",
         null
        ],
        [
         "18",
         "MEX"
        ],
        [
         "19",
         "ENG"
        ],
        [
         "20",
         "ENG"
        ],
        [
         "21",
         "ENG"
        ],
        [
         "22",
         "FRA"
        ],
        [
         "23",
         "DEN"
        ],
        [
         "24",
         "DEN"
        ],
        [
         "25",
         "ENG"
        ],
        [
         "26",
         "BRA"
        ],
        [
         "27",
         "JAM"
        ],
        [
         "28",
         "BRA"
        ],
        [
         "29",
         "MEX"
        ],
        [
         "30",
         "ENG"
        ],
        [
         "31",
         "FRA"
        ],
        [
         "32",
         "NGA"
        ],
        [
         "33",
         "ENG"
        ],
        [
         "34",
         "ENG"
        ],
        [
         "35",
         "ESP"
        ],
        [
         "36",
         "ESP"
        ],
        [
         "37",
         "ENG"
        ],
        [
         "38",
         "NGA"
        ],
        [
         "39",
         "SWE"
        ],
        [
         "40",
         "GHA"
        ],
        [
         "41",
         "GHA"
        ],
        [
         "42",
         "FRA"
        ],
        [
         "43",
         "JAM"
        ],
        [
         "44",
         "CMR"
        ],
        [
         "45",
         "ENG"
        ],
        [
         "46",
         "ENG"
        ],
        [
         "47",
         "NGA"
        ],
        [
         "48",
         "TUR"
        ],
        [
         "49",
         "POL"
        ]
       ],
       "shape": {
        "columns": 1,
        "rows": 574
       }
      },
      "text/plain": [
       "0      ENG\n",
       "1      ENG\n",
       "2      USA\n",
       "3      ENG\n",
       "4      CIV\n",
       "      ... \n",
       "569    ENG\n",
       "570    UKR\n",
       "571    UKR\n",
       "572    NED\n",
       "573    NOR\n",
       "Name: Nation, Length: 574, dtype: object"
      ]
     },
     "execution_count": 37,
     "metadata": {},
     "output_type": "execute_result"
    }
   ],
   "source": [
    "df['Nation']=df['Nation'].str.split(\" \",expand=True)[1]\n",
    "df['Nation']"
   ]
  },
  {
   "cell_type": "markdown",
   "id": "d97e6ae4",
   "metadata": {},
   "source": [
    "## 6. Feature Engineering\n",
    "Added performance comparison metrics:\n",
    "- `XG-Overperformance`: Goals scored vs Expected Goals (Gls - xG)\n",
    "- `xAG-Overperformance`: Assists vs Expected Assists (Ast - xAG)\n",
    "\n",
    "These metrics will help analyze player performance against expectations in the EDA phase."
   ]
  },
  {
   "cell_type": "code",
   "execution_count": 38,
   "id": "a33767d0",
   "metadata": {},
   "outputs": [
    {
     "data": {
      "application/vnd.microsoft.datawrangler.viewer.v0+json": {
       "columns": [
        {
         "name": "index",
         "rawType": "int64",
         "type": "integer"
        },
        {
         "name": "XG-Overperformance",
         "rawType": "float64",
         "type": "float"
        }
       ],
       "ref": "7df760b1-39b0-4381-912d-2fd520a6d571",
       "rows": [
        [
         "0",
         "0.0"
        ],
        [
         "1",
         "-0.2"
        ],
        [
         "2",
         "-1.6"
        ],
        [
         "3",
         "0.1"
        ],
        [
         "4",
         "-0.5"
        ],
        [
         "5",
         "0.2"
        ],
        [
         "6",
         "0.0"
        ],
        [
         "7",
         "1.4"
        ],
        [
         "8",
         "1.3"
        ],
        [
         "9",
         "-1.0"
        ],
        [
         "10",
         "-1.6"
        ],
        [
         "11",
         "-0.2"
        ],
        [
         "12",
         "-0.1"
        ],
        [
         "13",
         "0.3"
        ],
        [
         "14",
         "1.1"
        ],
        [
         "15",
         "0.0"
        ],
        [
         "16",
         "-0.5"
        ],
        [
         "17",
         "0.0"
        ],
        [
         "18",
         "-0.4"
        ],
        [
         "19",
         "0.0"
        ],
        [
         "20",
         "-0.1"
        ],
        [
         "21",
         "0.0"
        ],
        [
         "22",
         "0.0"
        ],
        [
         "23",
         "0.0"
        ],
        [
         "24",
         "-1.0"
        ],
        [
         "25",
         "-0.1"
        ],
        [
         "26",
         "-0.4"
        ],
        [
         "27",
         "-1.2"
        ],
        [
         "28",
         "-1.0"
        ],
        [
         "29",
         "0.0"
        ],
        [
         "30",
         "-3.7"
        ],
        [
         "31",
         "0.0"
        ],
        [
         "32",
         "0.3"
        ],
        [
         "33",
         "-1.3"
        ],
        [
         "34",
         "-0.4"
        ],
        [
         "35",
         "-0.1"
        ],
        [
         "36",
         "-1.4"
        ],
        [
         "37",
         "0.0"
        ],
        [
         "38",
         "-1.1"
        ],
        [
         "39",
         "-0.4"
        ],
        [
         "40",
         "-0.5"
        ],
        [
         "41",
         "1.8"
        ],
        [
         "42",
         "0.0"
        ],
        [
         "43",
         "-0.7"
        ],
        [
         "44",
         "-0.1"
        ],
        [
         "45",
         "1.2"
        ],
        [
         "46",
         "1.8"
        ],
        [
         "47",
         "0.0"
        ],
        [
         "48",
         "0.0"
        ],
        [
         "49",
         "1.3"
        ]
       ],
       "shape": {
        "columns": 1,
        "rows": 574
       }
      },
      "text/plain": [
       "0      0.0\n",
       "1     -0.2\n",
       "2     -1.6\n",
       "3      0.1\n",
       "4     -0.5\n",
       "      ... \n",
       "569    0.7\n",
       "570   -1.3\n",
       "571   -0.6\n",
       "572   -1.8\n",
       "573   -1.8\n",
       "Name: XG-Overperformance, Length: 574, dtype: float64"
      ]
     },
     "execution_count": 38,
     "metadata": {},
     "output_type": "execute_result"
    }
   ],
   "source": [
    "df['XG-Overperformance']=(df['Gls']-df['xG']).round(2)\n",
    "df['XG-Overperformance']"
   ]
  },
  {
   "cell_type": "code",
   "execution_count": 39,
   "id": "221d5842",
   "metadata": {},
   "outputs": [
    {
     "data": {
      "application/vnd.microsoft.datawrangler.viewer.v0+json": {
       "columns": [
        {
         "name": "index",
         "rawType": "int64",
         "type": "integer"
        },
        {
         "name": "xAG-Overperformance",
         "rawType": "float64",
         "type": "float"
        }
       ],
       "ref": "0f46080d-e16c-4e86-b986-3ab2a73a53d2",
       "rows": [
        [
         "0",
         "0.0"
        ],
        [
         "1",
         "0.0"
        ],
        [
         "2",
         "2.0"
        ],
        [
         "3",
         "0.8"
        ],
        [
         "4",
         "-0.5"
        ],
        [
         "5",
         "-0.2"
        ],
        [
         "6",
         "0.0"
        ],
        [
         "7",
         "-0.4"
        ],
        [
         "8",
         "1.5"
        ],
        [
         "9",
         "-1.2"
        ],
        [
         "10",
         "-0.4"
        ],
        [
         "11",
         "0.0"
        ],
        [
         "12",
         "-0.1"
        ],
        [
         "13",
         "1.4"
        ],
        [
         "14",
         "-1.3"
        ],
        [
         "15",
         "-0.6"
        ],
        [
         "16",
         "-0.3"
        ],
        [
         "17",
         "0.0"
        ],
        [
         "18",
         "0.2"
        ],
        [
         "19",
         "0.0"
        ],
        [
         "20",
         "0.0"
        ],
        [
         "21",
         "-0.1"
        ],
        [
         "22",
         "0.0"
        ],
        [
         "23",
         "0.0"
        ],
        [
         "24",
         "-0.5"
        ],
        [
         "25",
         "2.7"
        ],
        [
         "26",
         "-0.8"
        ],
        [
         "27",
         "-0.6"
        ],
        [
         "28",
         "-0.1"
        ],
        [
         "29",
         "-0.1"
        ],
        [
         "30",
         "-0.5"
        ],
        [
         "31",
         "0.0"
        ],
        [
         "32",
         "-1.6"
        ],
        [
         "33",
         "0.8"
        ],
        [
         "34",
         "-0.1"
        ],
        [
         "35",
         "0.0"
        ],
        [
         "36",
         "0.0"
        ],
        [
         "37",
         "0.0"
        ],
        [
         "38",
         "-0.1"
        ],
        [
         "39",
         "-1.3"
        ],
        [
         "40",
         "0.0"
        ],
        [
         "41",
         "-1.1"
        ],
        [
         "42",
         "0.0"
        ],
        [
         "43",
         "0.5"
        ],
        [
         "44",
         "-0.3"
        ],
        [
         "45",
         "0.4"
        ],
        [
         "46",
         "0.0"
        ],
        [
         "47",
         "-0.1"
        ],
        [
         "48",
         "0.0"
        ],
        [
         "49",
         "-0.5"
        ]
       ],
       "shape": {
        "columns": 1,
        "rows": 574
       }
      },
      "text/plain": [
       "0      0.0\n",
       "1      0.0\n",
       "2      2.0\n",
       "3      0.8\n",
       "4     -0.5\n",
       "      ... \n",
       "569    0.7\n",
       "570    0.3\n",
       "571    0.8\n",
       "572   -0.5\n",
       "573    2.6\n",
       "Name: xAG-Overperformance, Length: 574, dtype: float64"
      ]
     },
     "execution_count": 39,
     "metadata": {},
     "output_type": "execute_result"
    }
   ],
   "source": [
    "df['xAG-Overperformance']=(df['Ast']-df['xAG']).round(2)\n",
    "df['xAG-Overperformance']"
   ]
  },
  {
   "cell_type": "code",
   "execution_count": 40,
   "id": "e3ac33be",
   "metadata": {},
   "outputs": [
    {
     "data": {
      "application/vnd.microsoft.datawrangler.viewer.v0+json": {
       "columns": [
        {
         "name": "index",
         "rawType": "int64",
         "type": "integer"
        },
        {
         "name": "Rk",
         "rawType": "int64",
         "type": "integer"
        },
        {
         "name": "Player",
         "rawType": "object",
         "type": "string"
        },
        {
         "name": "Nation",
         "rawType": "object",
         "type": "string"
        },
        {
         "name": "Pos",
         "rawType": "object",
         "type": "string"
        },
        {
         "name": "Squad",
         "rawType": "object",
         "type": "string"
        },
        {
         "name": "Age",
         "rawType": "Int64",
         "type": "integer"
        },
        {
         "name": "Born",
         "rawType": "Int64",
         "type": "integer"
        },
        {
         "name": "MP",
         "rawType": "int64",
         "type": "integer"
        },
        {
         "name": "Starts",
         "rawType": "int64",
         "type": "integer"
        },
        {
         "name": "Min",
         "rawType": "int64",
         "type": "integer"
        },
        {
         "name": "90s",
         "rawType": "float64",
         "type": "float"
        },
        {
         "name": "Gls",
         "rawType": "int64",
         "type": "integer"
        },
        {
         "name": "Ast",
         "rawType": "int64",
         "type": "integer"
        },
        {
         "name": "G+A",
         "rawType": "int64",
         "type": "integer"
        },
        {
         "name": "G-PK",
         "rawType": "int64",
         "type": "integer"
        },
        {
         "name": "PK",
         "rawType": "int64",
         "type": "integer"
        },
        {
         "name": "PKatt",
         "rawType": "int64",
         "type": "integer"
        },
        {
         "name": "CrdY",
         "rawType": "int64",
         "type": "integer"
        },
        {
         "name": "CrdR",
         "rawType": "int64",
         "type": "integer"
        },
        {
         "name": "xG",
         "rawType": "float64",
         "type": "float"
        },
        {
         "name": "npxG",
         "rawType": "float64",
         "type": "float"
        },
        {
         "name": "xAG",
         "rawType": "float64",
         "type": "float"
        },
        {
         "name": "npxG+xAG",
         "rawType": "float64",
         "type": "float"
        },
        {
         "name": "PrgC",
         "rawType": "int64",
         "type": "integer"
        },
        {
         "name": "PrgP",
         "rawType": "int64",
         "type": "integer"
        },
        {
         "name": "PrgR",
         "rawType": "int64",
         "type": "integer"
        },
        {
         "name": "Gls/90s",
         "rawType": "float64",
         "type": "float"
        },
        {
         "name": "Ast/90s",
         "rawType": "float64",
         "type": "float"
        },
        {
         "name": "G+A/90s",
         "rawType": "float64",
         "type": "float"
        },
        {
         "name": "G-PK/90s",
         "rawType": "float64",
         "type": "float"
        },
        {
         "name": "G+A-PK",
         "rawType": "float64",
         "type": "float"
        },
        {
         "name": "xG/90s",
         "rawType": "float64",
         "type": "float"
        },
        {
         "name": "xAG/90s",
         "rawType": "float64",
         "type": "float"
        },
        {
         "name": "xG+xAG",
         "rawType": "float64",
         "type": "float"
        },
        {
         "name": "npxG/90s",
         "rawType": "float64",
         "type": "float"
        },
        {
         "name": "npxG+xAG/90s",
         "rawType": "float64",
         "type": "float"
        },
        {
         "name": "XG-Overperformance",
         "rawType": "float64",
         "type": "float"
        },
        {
         "name": "xAG-Overperformance",
         "rawType": "float64",
         "type": "float"
        }
       ],
       "ref": "865220b0-844b-408d-ba88-6739d8345981",
       "rows": [
        [
         "0",
         "1",
         "Max Aarons",
         "ENG",
         "DF",
         "Bournemouth",
         "24",
         "2000",
         "3",
         "1",
         "86",
         "1.0",
         "0",
         "0",
         "0",
         "0",
         "0",
         "0",
         "0",
         "0",
         "0.0",
         "0.0",
         "0.0",
         "0.0",
         "1",
         "8",
         "3",
         "0.0",
         "0.0",
         "0.0",
         "0.0",
         "0.0",
         "0.0",
         "0.0",
         "0.0",
         "0.0",
         "0.0",
         "0.0",
         "0.0"
        ],
        [
         "1",
         "2",
         "Joshua Acheampong",
         "ENG",
         "DF",
         "Chelsea",
         "18",
         "2006",
         "4",
         "2",
         "170",
         "1.9",
         "0",
         "0",
         "0",
         "0",
         "0",
         "0",
         "1",
         "0",
         "0.2",
         "0.2",
         "0.0",
         "0.2",
         "0",
         "8",
         "0",
         "0.0",
         "0.0",
         "0.0",
         "0.0",
         "0.0",
         "0.12",
         "0.0",
         "0.12",
         "0.12",
         "0.12",
         "-0.2",
         "0.0"
        ],
        [
         "2",
         "3",
         "Tyler Adams",
         "USA",
         "MF",
         "Bournemouth",
         "25",
         "1999",
         "28",
         "21",
         "1965",
         "21.8",
         "0",
         "3",
         "3",
         "0",
         "0",
         "0",
         "7",
         "0",
         "1.6",
         "1.6",
         "1.0",
         "2.6",
         "14",
         "76",
         "10",
         "0.0",
         "0.14",
         "0.14",
         "0.0",
         "0.14",
         "0.07",
         "0.05",
         "0.12",
         "0.07",
         "0.12",
         "-1.6",
         "2.0"
        ],
        [
         "3",
         "4",
         "Tosin Adarabioyo",
         "ENG",
         "DF",
         "Chelsea",
         "26",
         "1997",
         "22",
         "15",
         "1409",
         "15.7",
         "1",
         "1",
         "2",
         "1",
         "0",
         "0",
         "4",
         "0",
         "0.9",
         "0.9",
         "0.2",
         "1.2",
         "5",
         "42",
         "1",
         "0.06",
         "0.06",
         "0.13",
         "0.06",
         "0.13",
         "0.06",
         "0.01",
         "0.07",
         "0.06",
         "0.07",
         "0.1",
         "0.8"
        ],
        [
         "4",
         "5",
         "Simon Adingra",
         "CIV",
         "FW,MF",
         "Brighton",
         "22",
         "2002",
         "29",
         "12",
         "1097",
         "12.2",
         "2",
         "2",
         "4",
         "2",
         "0",
         "0",
         "0",
         "0",
         "2.5",
         "2.5",
         "2.5",
         "4.9",
         "50",
         "18",
         "136",
         "0.16",
         "0.16",
         "0.33",
         "0.16",
         "0.33",
         "0.2",
         "0.2",
         "0.4",
         "0.2",
         "0.4",
         "-0.5",
         "-0.5"
        ]
       ],
       "shape": {
        "columns": 38,
        "rows": 5
       }
      },
      "text/html": [
       "<div>\n",
       "<style scoped>\n",
       "    .dataframe tbody tr th:only-of-type {\n",
       "        vertical-align: middle;\n",
       "    }\n",
       "\n",
       "    .dataframe tbody tr th {\n",
       "        vertical-align: top;\n",
       "    }\n",
       "\n",
       "    .dataframe thead th {\n",
       "        text-align: right;\n",
       "    }\n",
       "</style>\n",
       "<table border=\"1\" class=\"dataframe\">\n",
       "  <thead>\n",
       "    <tr style=\"text-align: right;\">\n",
       "      <th></th>\n",
       "      <th>Rk</th>\n",
       "      <th>Player</th>\n",
       "      <th>Nation</th>\n",
       "      <th>Pos</th>\n",
       "      <th>Squad</th>\n",
       "      <th>Age</th>\n",
       "      <th>Born</th>\n",
       "      <th>MP</th>\n",
       "      <th>Starts</th>\n",
       "      <th>Min</th>\n",
       "      <th>...</th>\n",
       "      <th>G+A/90s</th>\n",
       "      <th>G-PK/90s</th>\n",
       "      <th>G+A-PK</th>\n",
       "      <th>xG/90s</th>\n",
       "      <th>xAG/90s</th>\n",
       "      <th>xG+xAG</th>\n",
       "      <th>npxG/90s</th>\n",
       "      <th>npxG+xAG/90s</th>\n",
       "      <th>XG-Overperformance</th>\n",
       "      <th>xAG-Overperformance</th>\n",
       "    </tr>\n",
       "  </thead>\n",
       "  <tbody>\n",
       "    <tr>\n",
       "      <th>0</th>\n",
       "      <td>1</td>\n",
       "      <td>Max Aarons</td>\n",
       "      <td>ENG</td>\n",
       "      <td>DF</td>\n",
       "      <td>Bournemouth</td>\n",
       "      <td>24</td>\n",
       "      <td>2000</td>\n",
       "      <td>3</td>\n",
       "      <td>1</td>\n",
       "      <td>86</td>\n",
       "      <td>...</td>\n",
       "      <td>0.00</td>\n",
       "      <td>0.00</td>\n",
       "      <td>0.00</td>\n",
       "      <td>0.00</td>\n",
       "      <td>0.00</td>\n",
       "      <td>0.00</td>\n",
       "      <td>0.00</td>\n",
       "      <td>0.00</td>\n",
       "      <td>0.0</td>\n",
       "      <td>0.0</td>\n",
       "    </tr>\n",
       "    <tr>\n",
       "      <th>1</th>\n",
       "      <td>2</td>\n",
       "      <td>Joshua Acheampong</td>\n",
       "      <td>ENG</td>\n",
       "      <td>DF</td>\n",
       "      <td>Chelsea</td>\n",
       "      <td>18</td>\n",
       "      <td>2006</td>\n",
       "      <td>4</td>\n",
       "      <td>2</td>\n",
       "      <td>170</td>\n",
       "      <td>...</td>\n",
       "      <td>0.00</td>\n",
       "      <td>0.00</td>\n",
       "      <td>0.00</td>\n",
       "      <td>0.12</td>\n",
       "      <td>0.00</td>\n",
       "      <td>0.12</td>\n",
       "      <td>0.12</td>\n",
       "      <td>0.12</td>\n",
       "      <td>-0.2</td>\n",
       "      <td>0.0</td>\n",
       "    </tr>\n",
       "    <tr>\n",
       "      <th>2</th>\n",
       "      <td>3</td>\n",
       "      <td>Tyler Adams</td>\n",
       "      <td>USA</td>\n",
       "      <td>MF</td>\n",
       "      <td>Bournemouth</td>\n",
       "      <td>25</td>\n",
       "      <td>1999</td>\n",
       "      <td>28</td>\n",
       "      <td>21</td>\n",
       "      <td>1965</td>\n",
       "      <td>...</td>\n",
       "      <td>0.14</td>\n",
       "      <td>0.00</td>\n",
       "      <td>0.14</td>\n",
       "      <td>0.07</td>\n",
       "      <td>0.05</td>\n",
       "      <td>0.12</td>\n",
       "      <td>0.07</td>\n",
       "      <td>0.12</td>\n",
       "      <td>-1.6</td>\n",
       "      <td>2.0</td>\n",
       "    </tr>\n",
       "    <tr>\n",
       "      <th>3</th>\n",
       "      <td>4</td>\n",
       "      <td>Tosin Adarabioyo</td>\n",
       "      <td>ENG</td>\n",
       "      <td>DF</td>\n",
       "      <td>Chelsea</td>\n",
       "      <td>26</td>\n",
       "      <td>1997</td>\n",
       "      <td>22</td>\n",
       "      <td>15</td>\n",
       "      <td>1409</td>\n",
       "      <td>...</td>\n",
       "      <td>0.13</td>\n",
       "      <td>0.06</td>\n",
       "      <td>0.13</td>\n",
       "      <td>0.06</td>\n",
       "      <td>0.01</td>\n",
       "      <td>0.07</td>\n",
       "      <td>0.06</td>\n",
       "      <td>0.07</td>\n",
       "      <td>0.1</td>\n",
       "      <td>0.8</td>\n",
       "    </tr>\n",
       "    <tr>\n",
       "      <th>4</th>\n",
       "      <td>5</td>\n",
       "      <td>Simon Adingra</td>\n",
       "      <td>CIV</td>\n",
       "      <td>FW,MF</td>\n",
       "      <td>Brighton</td>\n",
       "      <td>22</td>\n",
       "      <td>2002</td>\n",
       "      <td>29</td>\n",
       "      <td>12</td>\n",
       "      <td>1097</td>\n",
       "      <td>...</td>\n",
       "      <td>0.33</td>\n",
       "      <td>0.16</td>\n",
       "      <td>0.33</td>\n",
       "      <td>0.20</td>\n",
       "      <td>0.20</td>\n",
       "      <td>0.40</td>\n",
       "      <td>0.20</td>\n",
       "      <td>0.40</td>\n",
       "      <td>-0.5</td>\n",
       "      <td>-0.5</td>\n",
       "    </tr>\n",
       "  </tbody>\n",
       "</table>\n",
       "<p>5 rows × 38 columns</p>\n",
       "</div>"
      ],
      "text/plain": [
       "   Rk             Player Nation    Pos        Squad  Age  Born  MP  Starts  \\\n",
       "0   1         Max Aarons    ENG     DF  Bournemouth   24  2000   3       1   \n",
       "1   2  Joshua Acheampong    ENG     DF      Chelsea   18  2006   4       2   \n",
       "2   3        Tyler Adams    USA     MF  Bournemouth   25  1999  28      21   \n",
       "3   4   Tosin Adarabioyo    ENG     DF      Chelsea   26  1997  22      15   \n",
       "4   5      Simon Adingra    CIV  FW,MF     Brighton   22  2002  29      12   \n",
       "\n",
       "    Min  ...  G+A/90s  G-PK/90s  G+A-PK  xG/90s  xAG/90s  xG+xAG  npxG/90s  \\\n",
       "0    86  ...     0.00      0.00    0.00    0.00     0.00    0.00      0.00   \n",
       "1   170  ...     0.00      0.00    0.00    0.12     0.00    0.12      0.12   \n",
       "2  1965  ...     0.14      0.00    0.14    0.07     0.05    0.12      0.07   \n",
       "3  1409  ...     0.13      0.06    0.13    0.06     0.01    0.07      0.06   \n",
       "4  1097  ...     0.33      0.16    0.33    0.20     0.20    0.40      0.20   \n",
       "\n",
       "   npxG+xAG/90s  XG-Overperformance  xAG-Overperformance  \n",
       "0          0.00                 0.0                  0.0  \n",
       "1          0.12                -0.2                  0.0  \n",
       "2          0.12                -1.6                  2.0  \n",
       "3          0.07                 0.1                  0.8  \n",
       "4          0.40                -0.5                 -0.5  \n",
       "\n",
       "[5 rows x 38 columns]"
      ]
     },
     "execution_count": 40,
     "metadata": {},
     "output_type": "execute_result"
    }
   ],
   "source": [
    "df.head()"
   ]
  },
  {
   "cell_type": "code",
   "execution_count": 41,
   "id": "36b83911",
   "metadata": {},
   "outputs": [],
   "source": [
    "df.to_csv(\"../data/processed/players_cleaned.csv\")"
   ]
  }
 ],
 "metadata": {
  "kernelspec": {
   "display_name": "Python 3",
   "language": "python",
   "name": "python3"
  },
  "language_info": {
   "codemirror_mode": {
    "name": "ipython",
    "version": 3
   },
   "file_extension": ".py",
   "mimetype": "text/x-python",
   "name": "python",
   "nbconvert_exporter": "python",
   "pygments_lexer": "ipython3",
   "version": "3.13.0"
  }
 },
 "nbformat": 4,
 "nbformat_minor": 5
}
